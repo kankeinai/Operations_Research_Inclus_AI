{
  "cells": [
    {
      "cell_type": "markdown",
      "metadata": {},
      "source": [
        "# Inclus AI – Demo Feature Extraction approach"
      ]
    },
    {
      "cell_type": "markdown",
      "metadata": {},
      "source": [
        "Make sure that you have installed all required packages to run this notebook"
      ]
    },
    {
      "cell_type": "code",
      "execution_count": 187,
      "metadata": {
        "colab": {
          "base_uri": "https://localhost:8080/",
          "height": 350
        },
        "id": "d_Yg88jLCfU7",
        "outputId": "58430198-a4e9-461e-bf25-5326adab0c4b"
      },
      "outputs": [],
      "source": [
        "import pandas as pd\n",
        "from openai import AzureOpenAI\n",
        "import numpy as np\n",
        "import matplotlib.pyplot as plt\n",
        "\n",
        "# this part is require for testing of hallucination\n",
        "import torch\n",
        "from selfcheckgpt.modeling_selfcheck import SelfCheckMQAG, SelfCheckBERTScore, SelfCheckNgram\n",
        "import spacy\n",
        "!pip install selfcheckgpt\n",
        "!python -m spacy download en_core_web_sm\n",
        "nlp = spacy.load(\"en_core_web_sm\")\n",
        "\n",
        "# set up your azure client and don't forget to change api key and endpoint\n",
        "client = AzureOpenAI(\n",
        "    api_key=\"[API KEY]\",\n",
        "    api_version=\"2024-02-15-preview\",\n",
        "    azure_endpoint=\"[END POINT]\" \n",
        ")"
      ]
    },
    {
      "cell_type": "code",
      "execution_count": 190,
      "metadata": {},
      "outputs": [
        {
          "name": "stdout",
          "output_type": "stream",
          "text": [
            "Assistant is an expert in risk analysis (it can judge about impact and probability of risk based on the set of comments) and natural language processing expert, so it can evaluate parameters associated with text features. It can make conclusions only based on the provided comments. If assistant is not sure in the answer, it can return text \"None\" \n",
            "The assistant would be provided a list with indexes, risk type and comment it should answer on posed benchmark question. Do not add any additional text except for required output format.\n",
            "Inclus is a Finnish scaleup company that provides a platform for doing collaborative risk analysis.\n",
            "The data that is provided below is gathered from multiple people within Inclus and concerns multiple risk events. Treat each comment equally.\n"
          ]
        }
      ],
      "source": [
        "# read data provided by Inclus\n",
        "df = pd.read_excel(\"inclusData.xlsx\") \n",
        "# leave only those rows that have textual comment\n",
        "df = df.dropna()\n",
        "\n",
        "# format all comments as a list\n",
        "risk_data_1 = \"\"\n",
        "for j, row in enumerate(df[[\"Comment\", \"Item\", \"Dimension\", \"Answer\",]].values[:38, :]):\n",
        "    risk_data_1 += f\"{j+1}. Risk type: '{row[1]}'. Dimension: {row[2]}. Grade: {row[-1]} Comment: {row[0]} \\n\"\n",
        "\n",
        "# provide some context for ChatGpt\n",
        "prompt_engineering_majick = 'Assistant is an expert in risk analysis (it can judge about impact and probability of risk based on the set of comments) and natural language processing expert, so it can evaluate parameters associated with text features. It can make conclusions only based on the provided comments. If assistant is not sure in the answer, it can return text \"None\" '\n",
        "task_context = f'The assistant would be provided a list with indexes, risk type and comment it should answer on posed benchmark question. Do not add any additional text except for required output format.'\n",
        "company_context = 'Inclus is a Finnish scaleup company that provides a platform for doing collaborative risk analysis.'\n",
        "data_context = 'The data that is provided below is gathered from multiple people within Inclus and concerns multiple risk events. Treat each comment equally.'\n",
        "\n",
        "# formulate benchmark question\n",
        "benchmark_question = \"\"\"\n",
        "Find embedding for all comments in the provided list (for all 38). Only semantic can take neutral value. \n",
        "Each comment should be accessed next features with regards to assoicated risk type: objectivity of author(positive/negative), \n",
        "argumentative(positive/negative), list of top 5 or less keywords that are not common words (use words only from comment), \n",
        "semantic of the comment(positive/neutral/negative), is author is expert in risk analysis (positive/negative). \n",
        "\n",
        "The output should be provided in next format: \n",
        "index. content of original comment\n",
        "expert=positive/negative*list of keywords=[keyword1, keyword2...]*semantic=positive/neutral/negative*objectivity=positive/negative*argumentative=positive/negative\n",
        "\n",
        "Only options listed in the output format are allowed for embedding evaluation.\n",
        "\n",
        "Assistant should interpret objectivity as: \"if the authors comment correspond to grade, where 1 is really small and 5 is really big impact/likelyhood\n",
        "Argumentative means that the author argument is overall good and discusses risk type\n",
        "Semantic means if the overall comment sounds negative, positive or neutral\n",
        "Expert means if the author sounds like expert in risk analysis\n",
        "\"\"\"\n",
        "\n",
        "# combine all context with comments\n",
        "context_for_GPT = [prompt_engineering_majick,\n",
        "task_context,\n",
        "company_context,\n",
        "data_context,\n",
        "risk_data_1]\n",
        "system_content = '\\n'.join(context_for_GPT) \n",
        "\n",
        "print('\\n'.join(context_for_GPT[:-1]))"
      ]
    },
    {
      "cell_type": "code",
      "execution_count": 191,
      "metadata": {},
      "outputs": [
        {
          "name": "stdout",
          "output_type": "stream",
          "text": [
            "\n",
            "Find embedding for all comments in the provided list (for all 38). Only semantic can take neutral value. \n",
            "Each comment should be accessed next features with regards to assoicated risk type: objectivity of author(positive/negative), \n",
            "argumentative(positive/negative), list of top 5 or less keywords that are not common words (use words only from comment), \n",
            "semantic of the comment(positive/neutral/negative), is author is expert in risk analysis (positive/negative). \n",
            "\n",
            "The output should be provided in next format: \n",
            "index. content of original comment\n",
            "expert=positive/negative*list of keywords=[keyword1, keyword2...]*semantic=positive/neutral/negative*objectivity=positive/negative*argumentative=positive/negative\n",
            "\n",
            "Only options listed in the output format are allowed for embedding evaluation.\n",
            "\n",
            "Assistant should interpret objectivity as: \"if the authors comment correspond to grade, where 1 is really small and 5 is really big impact/likelyhood\n",
            "Argumentative means that the author argument is overall good and discusses risk type\n",
            "Semantic means if the overall comment sounds negative, positive or neutral\n",
            "Expert means if the author sounds like expert in risk analysis\n",
            "\n"
          ]
        }
      ],
      "source": [
        "print(benchmark_question) "
      ]
    },
    {
      "cell_type": "code",
      "execution_count": 192,
      "metadata": {
        "colab": {
          "base_uri": "https://localhost:8080/",
          "height": 350
        },
        "id": "eqUJK5DuCfU-",
        "outputId": "3ba517c7-0f41-4b39-f95f-65c1554a2365"
      },
      "outputs": [],
      "source": [
        "# get result from ChatGPT\n",
        "response = client.chat.completions.create(\n",
        "    model=\"gpt-4-turbo\",\n",
        "    messages=[\n",
        "        {\"role\": \"system\", \"content\": system_content},\n",
        "        {\"role\": \"user\", \"content\": benchmark_question} # the first strict benchmark question is asked\n",
        "    ]\n",
        ")"
      ]
    },
    {
      "cell_type": "code",
      "execution_count": 209,
      "metadata": {},
      "outputs": [
        {
          "data": {
            "text/html": [
              "<div>\n",
              "<style scoped>\n",
              "    .dataframe tbody tr th:only-of-type {\n",
              "        vertical-align: middle;\n",
              "    }\n",
              "\n",
              "    .dataframe tbody tr th {\n",
              "        vertical-align: top;\n",
              "    }\n",
              "\n",
              "    .dataframe thead th {\n",
              "        text-align: right;\n",
              "    }\n",
              "</style>\n",
              "<table border=\"1\" class=\"dataframe\">\n",
              "  <thead>\n",
              "    <tr style=\"text-align: right;\">\n",
              "      <th></th>\n",
              "      <th>expert</th>\n",
              "      <th>semantic</th>\n",
              "      <th>objectivity</th>\n",
              "      <th>argumentative</th>\n",
              "    </tr>\n",
              "  </thead>\n",
              "  <tbody>\n",
              "    <tr>\n",
              "      <th>0</th>\n",
              "      <td>1</td>\n",
              "      <td>1</td>\n",
              "      <td>1</td>\n",
              "      <td>1</td>\n",
              "    </tr>\n",
              "    <tr>\n",
              "      <th>1</th>\n",
              "      <td>1</td>\n",
              "      <td>1</td>\n",
              "      <td>1</td>\n",
              "      <td>1</td>\n",
              "    </tr>\n",
              "    <tr>\n",
              "      <th>2</th>\n",
              "      <td>-1</td>\n",
              "      <td>0</td>\n",
              "      <td>-1</td>\n",
              "      <td>-1</td>\n",
              "    </tr>\n",
              "    <tr>\n",
              "      <th>3</th>\n",
              "      <td>1</td>\n",
              "      <td>0</td>\n",
              "      <td>-1</td>\n",
              "      <td>1</td>\n",
              "    </tr>\n",
              "    <tr>\n",
              "      <th>4</th>\n",
              "      <td>1</td>\n",
              "      <td>1</td>\n",
              "      <td>-1</td>\n",
              "      <td>1</td>\n",
              "    </tr>\n",
              "    <tr>\n",
              "      <th>5</th>\n",
              "      <td>-1</td>\n",
              "      <td>0</td>\n",
              "      <td>1</td>\n",
              "      <td>-1</td>\n",
              "    </tr>\n",
              "    <tr>\n",
              "      <th>6</th>\n",
              "      <td>1</td>\n",
              "      <td>1</td>\n",
              "      <td>1</td>\n",
              "      <td>1</td>\n",
              "    </tr>\n",
              "    <tr>\n",
              "      <th>7</th>\n",
              "      <td>-1</td>\n",
              "      <td>-1</td>\n",
              "      <td>1</td>\n",
              "      <td>-1</td>\n",
              "    </tr>\n",
              "    <tr>\n",
              "      <th>8</th>\n",
              "      <td>1</td>\n",
              "      <td>0</td>\n",
              "      <td>-1</td>\n",
              "      <td>1</td>\n",
              "    </tr>\n",
              "    <tr>\n",
              "      <th>9</th>\n",
              "      <td>1</td>\n",
              "      <td>0</td>\n",
              "      <td>1</td>\n",
              "      <td>1</td>\n",
              "    </tr>\n",
              "    <tr>\n",
              "      <th>10</th>\n",
              "      <td>-1</td>\n",
              "      <td>1</td>\n",
              "      <td>1</td>\n",
              "      <td>-1</td>\n",
              "    </tr>\n",
              "    <tr>\n",
              "      <th>11</th>\n",
              "      <td>-1</td>\n",
              "      <td>0</td>\n",
              "      <td>1</td>\n",
              "      <td>-1</td>\n",
              "    </tr>\n",
              "    <tr>\n",
              "      <th>12</th>\n",
              "      <td>-1</td>\n",
              "      <td>-1</td>\n",
              "      <td>1</td>\n",
              "      <td>-1</td>\n",
              "    </tr>\n",
              "    <tr>\n",
              "      <th>13</th>\n",
              "      <td>1</td>\n",
              "      <td>1</td>\n",
              "      <td>-1</td>\n",
              "      <td>1</td>\n",
              "    </tr>\n",
              "    <tr>\n",
              "      <th>14</th>\n",
              "      <td>-1</td>\n",
              "      <td>-1</td>\n",
              "      <td>-1</td>\n",
              "      <td>-1</td>\n",
              "    </tr>\n",
              "    <tr>\n",
              "      <th>15</th>\n",
              "      <td>1</td>\n",
              "      <td>1</td>\n",
              "      <td>1</td>\n",
              "      <td>1</td>\n",
              "    </tr>\n",
              "    <tr>\n",
              "      <th>16</th>\n",
              "      <td>1</td>\n",
              "      <td>1</td>\n",
              "      <td>1</td>\n",
              "      <td>1</td>\n",
              "    </tr>\n",
              "    <tr>\n",
              "      <th>17</th>\n",
              "      <td>1</td>\n",
              "      <td>1</td>\n",
              "      <td>-1</td>\n",
              "      <td>1</td>\n",
              "    </tr>\n",
              "    <tr>\n",
              "      <th>18</th>\n",
              "      <td>1</td>\n",
              "      <td>1</td>\n",
              "      <td>1</td>\n",
              "      <td>1</td>\n",
              "    </tr>\n",
              "    <tr>\n",
              "      <th>19</th>\n",
              "      <td>-1</td>\n",
              "      <td>0</td>\n",
              "      <td>-1</td>\n",
              "      <td>-1</td>\n",
              "    </tr>\n",
              "    <tr>\n",
              "      <th>20</th>\n",
              "      <td>1</td>\n",
              "      <td>1</td>\n",
              "      <td>1</td>\n",
              "      <td>1</td>\n",
              "    </tr>\n",
              "    <tr>\n",
              "      <th>21</th>\n",
              "      <td>1</td>\n",
              "      <td>0</td>\n",
              "      <td>1</td>\n",
              "      <td>1</td>\n",
              "    </tr>\n",
              "    <tr>\n",
              "      <th>22</th>\n",
              "      <td>1</td>\n",
              "      <td>1</td>\n",
              "      <td>1</td>\n",
              "      <td>1</td>\n",
              "    </tr>\n",
              "    <tr>\n",
              "      <th>23</th>\n",
              "      <td>1</td>\n",
              "      <td>1</td>\n",
              "      <td>1</td>\n",
              "      <td>1</td>\n",
              "    </tr>\n",
              "    <tr>\n",
              "      <th>24</th>\n",
              "      <td>-1</td>\n",
              "      <td>0</td>\n",
              "      <td>-1</td>\n",
              "      <td>-1</td>\n",
              "    </tr>\n",
              "    <tr>\n",
              "      <th>25</th>\n",
              "      <td>1</td>\n",
              "      <td>1</td>\n",
              "      <td>1</td>\n",
              "      <td>1</td>\n",
              "    </tr>\n",
              "    <tr>\n",
              "      <th>26</th>\n",
              "      <td>1</td>\n",
              "      <td>1</td>\n",
              "      <td>1</td>\n",
              "      <td>1</td>\n",
              "    </tr>\n",
              "    <tr>\n",
              "      <th>27</th>\n",
              "      <td>-1</td>\n",
              "      <td>0</td>\n",
              "      <td>1</td>\n",
              "      <td>-1</td>\n",
              "    </tr>\n",
              "    <tr>\n",
              "      <th>28</th>\n",
              "      <td>1</td>\n",
              "      <td>0</td>\n",
              "      <td>1</td>\n",
              "      <td>1</td>\n",
              "    </tr>\n",
              "    <tr>\n",
              "      <th>29</th>\n",
              "      <td>1</td>\n",
              "      <td>1</td>\n",
              "      <td>1</td>\n",
              "      <td>1</td>\n",
              "    </tr>\n",
              "    <tr>\n",
              "      <th>30</th>\n",
              "      <td>1</td>\n",
              "      <td>1</td>\n",
              "      <td>1</td>\n",
              "      <td>1</td>\n",
              "    </tr>\n",
              "    <tr>\n",
              "      <th>31</th>\n",
              "      <td>1</td>\n",
              "      <td>1</td>\n",
              "      <td>1</td>\n",
              "      <td>1</td>\n",
              "    </tr>\n",
              "    <tr>\n",
              "      <th>32</th>\n",
              "      <td>-1</td>\n",
              "      <td>0</td>\n",
              "      <td>1</td>\n",
              "      <td>-1</td>\n",
              "    </tr>\n",
              "    <tr>\n",
              "      <th>33</th>\n",
              "      <td>1</td>\n",
              "      <td>1</td>\n",
              "      <td>1</td>\n",
              "      <td>1</td>\n",
              "    </tr>\n",
              "    <tr>\n",
              "      <th>34</th>\n",
              "      <td>-1</td>\n",
              "      <td>0</td>\n",
              "      <td>-1</td>\n",
              "      <td>-1</td>\n",
              "    </tr>\n",
              "    <tr>\n",
              "      <th>35</th>\n",
              "      <td>1</td>\n",
              "      <td>1</td>\n",
              "      <td>1</td>\n",
              "      <td>1</td>\n",
              "    </tr>\n",
              "    <tr>\n",
              "      <th>36</th>\n",
              "      <td>1</td>\n",
              "      <td>1</td>\n",
              "      <td>1</td>\n",
              "      <td>1</td>\n",
              "    </tr>\n",
              "    <tr>\n",
              "      <th>37</th>\n",
              "      <td>1</td>\n",
              "      <td>1</td>\n",
              "      <td>1</td>\n",
              "      <td>1</td>\n",
              "    </tr>\n",
              "  </tbody>\n",
              "</table>\n",
              "</div>"
            ],
            "text/plain": [
              "    expert  semantic  objectivity  argumentative\n",
              "0        1         1            1              1\n",
              "1        1         1            1              1\n",
              "2       -1         0           -1             -1\n",
              "3        1         0           -1              1\n",
              "4        1         1           -1              1\n",
              "5       -1         0            1             -1\n",
              "6        1         1            1              1\n",
              "7       -1        -1            1             -1\n",
              "8        1         0           -1              1\n",
              "9        1         0            1              1\n",
              "10      -1         1            1             -1\n",
              "11      -1         0            1             -1\n",
              "12      -1        -1            1             -1\n",
              "13       1         1           -1              1\n",
              "14      -1        -1           -1             -1\n",
              "15       1         1            1              1\n",
              "16       1         1            1              1\n",
              "17       1         1           -1              1\n",
              "18       1         1            1              1\n",
              "19      -1         0           -1             -1\n",
              "20       1         1            1              1\n",
              "21       1         0            1              1\n",
              "22       1         1            1              1\n",
              "23       1         1            1              1\n",
              "24      -1         0           -1             -1\n",
              "25       1         1            1              1\n",
              "26       1         1            1              1\n",
              "27      -1         0            1             -1\n",
              "28       1         0            1              1\n",
              "29       1         1            1              1\n",
              "30       1         1            1              1\n",
              "31       1         1            1              1\n",
              "32      -1         0            1             -1\n",
              "33       1         1            1              1\n",
              "34      -1         0           -1             -1\n",
              "35       1         1            1              1\n",
              "36       1         1            1              1\n",
              "37       1         1            1              1"
            ]
          },
          "execution_count": 209,
          "metadata": {},
          "output_type": "execute_result"
        }
      ],
      "source": [
        "# clean and parse output from ChatGPT\n",
        "cleaned = []\n",
        "for j, i in enumerate(response.choices[0].message.content.split(\"\\n\")):\n",
        "    if i!='':\n",
        "        cleaned.append(i)\n",
        "\n",
        "comments = []\n",
        "embedings = []\n",
        "\n",
        "for i, j in enumerate(cleaned):\n",
        "    if i%2 == 0:\n",
        "        comments.append(j[3:])\n",
        "    else:\n",
        "        embedings.append(j)   \n",
        "\n",
        "result = {\n",
        "    'comment': comments,\n",
        "    'expert':[],\n",
        "    'list of keywords':[],\n",
        "    'semantic':[],\n",
        "    'objectivity':[],\n",
        "    'argumentative':[]\n",
        "}\n",
        "\n",
        "# translate words to numbers\n",
        "numerical = {\n",
        "    'negative': -1,\n",
        "    'neutral': 0,\n",
        "    'positive': 1\n",
        "}\n",
        "\n",
        "for k, i in enumerate(embedings):\n",
        "    for j in i.split('*'):\n",
        "        inp = j.split(\"=\")\n",
        "        if inp[0] in [\"dimension\",\"list of keywords\"]:\n",
        "            result[inp[0]].append(inp[1][1:-1])\n",
        "        else:\n",
        "            result[inp[0]].append(numerical[inp[1]]) \n",
        "\n",
        "gpt_output = pd.DataFrame(result)\n",
        "allowed_columns = ['expert','semantic','objectivity', 'argumentative']\n",
        "gpt_output[allowed_columns]"
      ]
    },
    {
      "cell_type": "code",
      "execution_count": 210,
      "metadata": {},
      "outputs": [
        {
          "data": {
            "text/html": [
              "<div>\n",
              "<style scoped>\n",
              "    .dataframe tbody tr th:only-of-type {\n",
              "        vertical-align: middle;\n",
              "    }\n",
              "\n",
              "    .dataframe tbody tr th {\n",
              "        vertical-align: top;\n",
              "    }\n",
              "\n",
              "    .dataframe thead th {\n",
              "        text-align: right;\n",
              "    }\n",
              "</style>\n",
              "<table border=\"1\" class=\"dataframe\">\n",
              "  <thead>\n",
              "    <tr style=\"text-align: right;\">\n",
              "      <th></th>\n",
              "      <th>expert</th>\n",
              "      <th>semantic</th>\n",
              "      <th>objectivity</th>\n",
              "      <th>argumentative</th>\n",
              "    </tr>\n",
              "  </thead>\n",
              "  <tbody>\n",
              "    <tr>\n",
              "      <th>0</th>\n",
              "      <td>1.0</td>\n",
              "      <td>0.0</td>\n",
              "      <td>1.0</td>\n",
              "      <td>1.0</td>\n",
              "    </tr>\n",
              "    <tr>\n",
              "      <th>3</th>\n",
              "      <td>1.0</td>\n",
              "      <td>0.0</td>\n",
              "      <td>1.0</td>\n",
              "      <td>1.0</td>\n",
              "    </tr>\n",
              "    <tr>\n",
              "      <th>5</th>\n",
              "      <td>-1.0</td>\n",
              "      <td>0.0</td>\n",
              "      <td>1.0</td>\n",
              "      <td>1.0</td>\n",
              "    </tr>\n",
              "    <tr>\n",
              "      <th>6</th>\n",
              "      <td>-1.0</td>\n",
              "      <td>0.0</td>\n",
              "      <td>1.0</td>\n",
              "      <td>-1.0</td>\n",
              "    </tr>\n",
              "    <tr>\n",
              "      <th>7</th>\n",
              "      <td>1.0</td>\n",
              "      <td>1.0</td>\n",
              "      <td>1.0</td>\n",
              "      <td>1.0</td>\n",
              "    </tr>\n",
              "    <tr>\n",
              "      <th>8</th>\n",
              "      <td>-1.0</td>\n",
              "      <td>0.0</td>\n",
              "      <td>-1.0</td>\n",
              "      <td>-1.0</td>\n",
              "    </tr>\n",
              "    <tr>\n",
              "      <th>9</th>\n",
              "      <td>1.0</td>\n",
              "      <td>1.0</td>\n",
              "      <td>1.0</td>\n",
              "      <td>1.0</td>\n",
              "    </tr>\n",
              "    <tr>\n",
              "      <th>10</th>\n",
              "      <td>-1.0</td>\n",
              "      <td>0.0</td>\n",
              "      <td>1.0</td>\n",
              "      <td>-1.0</td>\n",
              "    </tr>\n",
              "    <tr>\n",
              "      <th>11</th>\n",
              "      <td>1.0</td>\n",
              "      <td>0.0</td>\n",
              "      <td>1.0</td>\n",
              "      <td>1.0</td>\n",
              "    </tr>\n",
              "    <tr>\n",
              "      <th>12</th>\n",
              "      <td>1.0</td>\n",
              "      <td>-1.0</td>\n",
              "      <td>1.0</td>\n",
              "      <td>1.0</td>\n",
              "    </tr>\n",
              "    <tr>\n",
              "      <th>13</th>\n",
              "      <td>-1.0</td>\n",
              "      <td>0.0</td>\n",
              "      <td>1.0</td>\n",
              "      <td>-1.0</td>\n",
              "    </tr>\n",
              "    <tr>\n",
              "      <th>24</th>\n",
              "      <td>-1.0</td>\n",
              "      <td>0.0</td>\n",
              "      <td>1.0</td>\n",
              "      <td>1.0</td>\n",
              "    </tr>\n",
              "    <tr>\n",
              "      <th>29</th>\n",
              "      <td>-1.0</td>\n",
              "      <td>-1.0</td>\n",
              "      <td>-1.0</td>\n",
              "      <td>-1.0</td>\n",
              "    </tr>\n",
              "    <tr>\n",
              "      <th>30</th>\n",
              "      <td>1.0</td>\n",
              "      <td>0.0</td>\n",
              "      <td>1.0</td>\n",
              "      <td>1.0</td>\n",
              "    </tr>\n",
              "    <tr>\n",
              "      <th>49</th>\n",
              "      <td>-1.0</td>\n",
              "      <td>-1.0</td>\n",
              "      <td>-1.0</td>\n",
              "      <td>1.0</td>\n",
              "    </tr>\n",
              "    <tr>\n",
              "      <th>54</th>\n",
              "      <td>-1.0</td>\n",
              "      <td>1.0</td>\n",
              "      <td>-1.0</td>\n",
              "      <td>-1.0</td>\n",
              "    </tr>\n",
              "    <tr>\n",
              "      <th>57</th>\n",
              "      <td>1.0</td>\n",
              "      <td>0.0</td>\n",
              "      <td>1.0</td>\n",
              "      <td>-1.0</td>\n",
              "    </tr>\n",
              "    <tr>\n",
              "      <th>58</th>\n",
              "      <td>1.0</td>\n",
              "      <td>0.0</td>\n",
              "      <td>1.0</td>\n",
              "      <td>1.0</td>\n",
              "    </tr>\n",
              "    <tr>\n",
              "      <th>60</th>\n",
              "      <td>-1.0</td>\n",
              "      <td>0.0</td>\n",
              "      <td>1.0</td>\n",
              "      <td>1.0</td>\n",
              "    </tr>\n",
              "    <tr>\n",
              "      <th>62</th>\n",
              "      <td>1.0</td>\n",
              "      <td>0.0</td>\n",
              "      <td>1.0</td>\n",
              "      <td>1.0</td>\n",
              "    </tr>\n",
              "    <tr>\n",
              "      <th>66</th>\n",
              "      <td>1.0</td>\n",
              "      <td>1.0</td>\n",
              "      <td>1.0</td>\n",
              "      <td>1.0</td>\n",
              "    </tr>\n",
              "    <tr>\n",
              "      <th>70</th>\n",
              "      <td>1.0</td>\n",
              "      <td>0.0</td>\n",
              "      <td>1.0</td>\n",
              "      <td>1.0</td>\n",
              "    </tr>\n",
              "    <tr>\n",
              "      <th>71</th>\n",
              "      <td>1.0</td>\n",
              "      <td>0.0</td>\n",
              "      <td>1.0</td>\n",
              "      <td>1.0</td>\n",
              "    </tr>\n",
              "    <tr>\n",
              "      <th>72</th>\n",
              "      <td>1.0</td>\n",
              "      <td>0.0</td>\n",
              "      <td>1.0</td>\n",
              "      <td>1.0</td>\n",
              "    </tr>\n",
              "    <tr>\n",
              "      <th>74</th>\n",
              "      <td>-1.0</td>\n",
              "      <td>1.0</td>\n",
              "      <td>-1.0</td>\n",
              "      <td>-1.0</td>\n",
              "    </tr>\n",
              "    <tr>\n",
              "      <th>75</th>\n",
              "      <td>-1.0</td>\n",
              "      <td>-1.0</td>\n",
              "      <td>-1.0</td>\n",
              "      <td>-1.0</td>\n",
              "    </tr>\n",
              "    <tr>\n",
              "      <th>76</th>\n",
              "      <td>-1.0</td>\n",
              "      <td>0.0</td>\n",
              "      <td>1.0</td>\n",
              "      <td>1.0</td>\n",
              "    </tr>\n",
              "    <tr>\n",
              "      <th>78</th>\n",
              "      <td>1.0</td>\n",
              "      <td>0.0</td>\n",
              "      <td>1.0</td>\n",
              "      <td>1.0</td>\n",
              "    </tr>\n",
              "    <tr>\n",
              "      <th>80</th>\n",
              "      <td>-1.0</td>\n",
              "      <td>0.0</td>\n",
              "      <td>1.0</td>\n",
              "      <td>1.0</td>\n",
              "    </tr>\n",
              "    <tr>\n",
              "      <th>82</th>\n",
              "      <td>-1.0</td>\n",
              "      <td>0.0</td>\n",
              "      <td>1.0</td>\n",
              "      <td>1.0</td>\n",
              "    </tr>\n",
              "    <tr>\n",
              "      <th>84</th>\n",
              "      <td>-1.0</td>\n",
              "      <td>0.0</td>\n",
              "      <td>1.0</td>\n",
              "      <td>-1.0</td>\n",
              "    </tr>\n",
              "    <tr>\n",
              "      <th>86</th>\n",
              "      <td>1.0</td>\n",
              "      <td>0.0</td>\n",
              "      <td>1.0</td>\n",
              "      <td>1.0</td>\n",
              "    </tr>\n",
              "    <tr>\n",
              "      <th>88</th>\n",
              "      <td>-1.0</td>\n",
              "      <td>0.0</td>\n",
              "      <td>1.0</td>\n",
              "      <td>-1.0</td>\n",
              "    </tr>\n",
              "    <tr>\n",
              "      <th>90</th>\n",
              "      <td>1.0</td>\n",
              "      <td>0.0</td>\n",
              "      <td>1.0</td>\n",
              "      <td>1.0</td>\n",
              "    </tr>\n",
              "    <tr>\n",
              "      <th>94</th>\n",
              "      <td>1.0</td>\n",
              "      <td>0.0</td>\n",
              "      <td>1.0</td>\n",
              "      <td>1.0</td>\n",
              "    </tr>\n",
              "    <tr>\n",
              "      <th>96</th>\n",
              "      <td>1.0</td>\n",
              "      <td>0.0</td>\n",
              "      <td>1.0</td>\n",
              "      <td>1.0</td>\n",
              "    </tr>\n",
              "    <tr>\n",
              "      <th>97</th>\n",
              "      <td>1.0</td>\n",
              "      <td>-1.0</td>\n",
              "      <td>1.0</td>\n",
              "      <td>1.0</td>\n",
              "    </tr>\n",
              "    <tr>\n",
              "      <th>98</th>\n",
              "      <td>1.0</td>\n",
              "      <td>0.0</td>\n",
              "      <td>1.0</td>\n",
              "      <td>1.0</td>\n",
              "    </tr>\n",
              "  </tbody>\n",
              "</table>\n",
              "</div>"
            ],
            "text/plain": [
              "    expert  semantic  objectivity  argumentative\n",
              "0      1.0       0.0          1.0            1.0\n",
              "3      1.0       0.0          1.0            1.0\n",
              "5     -1.0       0.0          1.0            1.0\n",
              "6     -1.0       0.0          1.0           -1.0\n",
              "7      1.0       1.0          1.0            1.0\n",
              "8     -1.0       0.0         -1.0           -1.0\n",
              "9      1.0       1.0          1.0            1.0\n",
              "10    -1.0       0.0          1.0           -1.0\n",
              "11     1.0       0.0          1.0            1.0\n",
              "12     1.0      -1.0          1.0            1.0\n",
              "13    -1.0       0.0          1.0           -1.0\n",
              "24    -1.0       0.0          1.0            1.0\n",
              "29    -1.0      -1.0         -1.0           -1.0\n",
              "30     1.0       0.0          1.0            1.0\n",
              "49    -1.0      -1.0         -1.0            1.0\n",
              "54    -1.0       1.0         -1.0           -1.0\n",
              "57     1.0       0.0          1.0           -1.0\n",
              "58     1.0       0.0          1.0            1.0\n",
              "60    -1.0       0.0          1.0            1.0\n",
              "62     1.0       0.0          1.0            1.0\n",
              "66     1.0       1.0          1.0            1.0\n",
              "70     1.0       0.0          1.0            1.0\n",
              "71     1.0       0.0          1.0            1.0\n",
              "72     1.0       0.0          1.0            1.0\n",
              "74    -1.0       1.0         -1.0           -1.0\n",
              "75    -1.0      -1.0         -1.0           -1.0\n",
              "76    -1.0       0.0          1.0            1.0\n",
              "78     1.0       0.0          1.0            1.0\n",
              "80    -1.0       0.0          1.0            1.0\n",
              "82    -1.0       0.0          1.0            1.0\n",
              "84    -1.0       0.0          1.0           -1.0\n",
              "86     1.0       0.0          1.0            1.0\n",
              "88    -1.0       0.0          1.0           -1.0\n",
              "90     1.0       0.0          1.0            1.0\n",
              "94     1.0       0.0          1.0            1.0\n",
              "96     1.0       0.0          1.0            1.0\n",
              "97     1.0      -1.0          1.0            1.0\n",
              "98     1.0       0.0          1.0            1.0"
            ]
          },
          "execution_count": 210,
          "metadata": {},
          "output_type": "execute_result"
        }
      ],
      "source": [
        "# read our assesment\n",
        "numerical_features = [\"expert\", \"semantic\", \"objectivity\", \"argumentative\"]\n",
        "\n",
        "df_embedings = pd.read_excel(\"inclusData_embeddings.xlsx\") # have the xlsx shared by Juha in the same folder as this .ipynb file\n",
        "df_embedings.dropna(inplace=True)\n",
        "df_embedings.rename(columns={\"expert (risk analysis)\": \"expert\"}, inplace=True)\n",
        "\n",
        "df_embedings[numerical_features][:38]"
      ]
    },
    {
      "cell_type": "code",
      "execution_count": 212,
      "metadata": {},
      "outputs": [
        {
          "name": "stdout",
          "output_type": "stream",
          "text": [
            "Accuracy of expert: 71.05263157894737%\n",
            "Accuracy of semantic: 44.73684210526316%\n",
            "Accuracy of objectivity: 68.42105263157895%\n",
            "Accuracy of argumentative: 71.05263157894737%\n"
          ]
        }
      ],
      "source": [
        "acc = np.sum(gpt_output[numerical_features].values[:38] == (df_embedings[numerical_features]).values, axis=0)/38\n",
        "for i, a in enumerate(acc):\n",
        "    print(f\"Accuracy of {numerical_features[i]}: {a*100}%\")"
      ]
    },
    {
      "cell_type": "code",
      "execution_count": 268,
      "metadata": {},
      "outputs": [
        {
          "name": "stdout",
          "output_type": "stream",
          "text": [
            "Assistant is an expert in risk analysis (it can judge about impact and probability of risk based on the set of comments) and natural language processing expert, so it can evaluate parameters associated with text features. It can make conclusions only based on the provided comments. If assistant is not sure in the answer, it can return text \"None\" \n",
            "The assistant would be provided a list with indexes, risk type and comment it should answer on posed benchmark question. Do not add any additional text except for required output format.\n",
            "Inclus is a Finnish scaleup company that provides a platform for doing collaborative risk analysis.\n",
            "The data that is provided below is analysis of gathered from multiple people within Inclus and concerns multiple risk events. Treat each comment equally.\n"
          ]
        }
      ],
      "source": [
        "prompt_engineering_majick = 'Assistant is an expert in risk analysis (it can judge about impact and probability of risk based on the set of comments) and natural language processing expert, so it can evaluate parameters associated with text features. It can make conclusions only based on the provided comments. If assistant is not sure in the answer, it can return text \"None\" '\n",
        "task_context = f'The assistant would be provided a list with indexes, risk type and comment it should answer on posed benchmark question. Do not add any additional text except for required output format.'\n",
        "company_context = 'Inclus is a Finnish scaleup company that provides a platform for doing collaborative risk analysis.'\n",
        "data_context = 'The data that is provided below is analysis of gathered from multiple people within Inclus and concerns multiple risk events. Treat each comment equally.'\n",
        "\n",
        "benchmark_question = \"\"\"For each comment (for all 38 comments) provide analysis that should discuss objectivity, argumentativity, expertise and semantic of the comment with detailed explanation.\n",
        "Assistant should interpret objectivity as: \"if the authors comment correspond to grade, where 1 is really small and 5 is really big impact/likelyhood\n",
        "Argumentative means that the author argument is overall good and discusses risk type\n",
        "Semantic means if the overall comment sounds negative, positive or neutral\n",
        "Expert means if the author sounds like expert in risk analysis\n",
        "\n",
        "Output should be provided in the next format:  \n",
        "i. analysis: analysis with 2-3 sentences (at most). Assistant shouldnt add any additional information that it is not asked. \n",
        "\n",
        "Provide answer according to output format. The language style of the output should be exact and not vague.\n",
        "\"\"\"\n",
        "\n",
        "context_for_GPT = [prompt_engineering_majick,\n",
        "task_context,\n",
        "company_context,\n",
        "data_context,\n",
        "risk_data_1]\n",
        "print('\\n'.join(context_for_GPT[:-1]))\n",
        "\n",
        "system_content = '\\n'.join(context_for_GPT) # goes into the prompt in 'messages' part in line '{\"role\": \"system\", \"content\": system_content}' later\n"
      ]
    },
    {
      "cell_type": "code",
      "execution_count": 269,
      "metadata": {},
      "outputs": [
        {
          "name": "stdout",
          "output_type": "stream",
          "text": [
            "For each comment (for all 38 comments) provide analysis that should discuss objectivity, argumentativity, expertise and semantic of the comment with detailed explanation.\n",
            "Assistant should interpret objectivity as: \"if the authors comment correspond to grade, where 1 is really small and 5 is really big impact/likelyhood\n",
            "Argumentative means that the author argument is overall good and discusses risk type\n",
            "Semantic means if the overall comment sounds negative, positive or neutral\n",
            "Expert means if the author sounds like expert in risk analysis\n",
            "\n",
            "Output should be provided in the next format:  \n",
            "i. analysis: analysis with 2-3 sentences (at most). Assistant shouldnt add any additional information that it is not asked. \n",
            "\n",
            "Provide answer according to output format. The language style of the output should be exact and not vague.\n",
            "\n"
          ]
        }
      ],
      "source": [
        "print(benchmark_question)"
      ]
    },
    {
      "cell_type": "code",
      "execution_count": 270,
      "metadata": {},
      "outputs": [],
      "source": [
        "response = client.chat.completions.create(\n",
        "    model=\"gpt-4-turbo\",\n",
        "    messages=[\n",
        "        {\"role\": \"system\", \"content\": system_content},\n",
        "        {\"role\": \"user\", \"content\": benchmark_question} # the first strict benchmark question is asked\n",
        "    ]\n",
        ")"
      ]
    },
    {
      "cell_type": "code",
      "execution_count": 271,
      "metadata": {},
      "outputs": [
        {
          "name": "stdout",
          "output_type": "stream",
          "text": [
            "The comment is moderately objective as it aligns with the given grade by suggesting practical mitigation strategies for a mid-level IT risk. It is argumentative as it discusses prevention measures related to IT risk management. The semantic tone is neutral, focusing on procedural aspects. The commenter displays expertise by recommending specific tools and good habits.\n"
          ]
        }
      ],
      "source": [
        "cleaned_1 = []\n",
        "for i in response.choices[0].message.content.split('\\n'):\n",
        "    try:\n",
        "        if len(i)>0 and i!=\" \":\n",
        "            cleaned_1.append(i.split(\":\")[1][1:])\n",
        "    except:\n",
        "        pass\n",
        "\n",
        "print(cleaned_1[0])\n",
        "\n",
        "risk_data_2 = \"\"\n",
        "for j, row in enumerate(cleaned_1):\n",
        "    temp = f\"{j+1}. analysis:  {row}\\n\"\n",
        "    risk_data_2 += temp"
      ]
    },
    {
      "cell_type": "code",
      "execution_count": 272,
      "metadata": {},
      "outputs": [
        {
          "name": "stdout",
          "output_type": "stream",
          "text": [
            "Assistant is an expert in risk analysis (it can judge about impact and probability of risk based on the set of comments) and natural language processing expert, so it can evaluate parameters associated with text features. It can make conclusions only based on the provided comments. If assistant is not sure in the answer, it can return text \"None\" \n",
            "The assistant would be provided a list with indexes, risk type and comment it should answer on posed benchmark question. Do not add any additional text except for required output format.\n",
            "Inclus is a Finnish scaleup company that provides a platform for doing collaborative risk analysis.\n",
            "The data that is provided below is analysis of comments gathered from multiple people within Inclus and concerns multiple risk events. Treat each comment equally.\n"
          ]
        }
      ],
      "source": [
        "prompt_engineering_majick = 'Assistant is an expert in risk analysis (it can judge about impact and probability of risk based on the set of comments) and natural language processing expert, so it can evaluate parameters associated with text features. It can make conclusions only based on the provided comments. If assistant is not sure in the answer, it can return text \"None\" '\n",
        "task_context = f'The assistant would be provided a list with indexes, risk type and comment it should answer on posed benchmark question. Do not add any additional text except for required output format.'\n",
        "company_context = 'Inclus is a Finnish scaleup company that provides a platform for doing collaborative risk analysis.'\n",
        "data_context = 'The data that is provided below is analysis of comments gathered from multiple people within Inclus and concerns multiple risk events. Treat each comment equally.'\n",
        "\n",
        "benchmark_question = \"\"\"Based on the provided analysis of comments. Find embedding for each analysis in the provided list (for all 38). Only semantic can take neutral value. Each analysis comment should be accessed next features with regards to assoicated risk type: objectivity of author(positive/negative) is person over (overoptimistic or overpesimistic which is \"negative\" or realistic which is \"positive\"), argumentative(positive/negative) how well comment corresponds to risk type, \n",
        "semantic of the comment(positive/neutral/negative), is author expert in risk analysis (positive/negative). The output should be provided in next format: index. expert=positive/negative*semantic=positive/neutral/negative*objectivity=positive/negative*argumentative=positive/negative\n",
        "\n",
        "Note that assistant should access not semantic of analysis, but of the original comment based on analysis.\"\"\"\n",
        "\n",
        "context_for_GPT = [prompt_engineering_majick,\n",
        "task_context,\n",
        "company_context,\n",
        "data_context,\n",
        "risk_data_2]\n",
        "\n",
        "print('\\n'.join(context_for_GPT[:-1]))\n",
        "\n",
        "system_content = '\\n'.join(context_for_GPT) "
      ]
    },
    {
      "cell_type": "code",
      "execution_count": 274,
      "metadata": {},
      "outputs": [
        {
          "name": "stdout",
          "output_type": "stream",
          "text": [
            "Based on the provided analysis of comments. Find embedding for each analysis in the provided list (for all 38). Only semantic can take neutral value. Each analysis comment should be accessed next features with regards to assoicated risk type: objectivity of author(positive/negative) is person over (overoptimistic or overpesimistic which is \"negative\" or realistic which is \"positive\"), argumentative(positive/negative) how well comment corresponds to risk type, \n",
            "semantic of the comment(positive/neutral/negative), is author expert in risk analysis (positive/negative). The output should be provided in next format: index. expert=positive/negative*semantic=positive/neutral/negative*objectivity=positive/negative*argumentative=positive/negative\n",
            "\n",
            "Note that assistant should access not semantic of analysis, but of the original comment based on analysis.\n"
          ]
        }
      ],
      "source": [
        "print(benchmark_question)"
      ]
    },
    {
      "cell_type": "code",
      "execution_count": null,
      "metadata": {},
      "outputs": [],
      "source": [
        "response = client.chat.completions.create(\n",
        "    model=\"gpt-4-turbo\",\n",
        "    messages=[\n",
        "        {\"role\": \"system\", \"content\": system_content},\n",
        "        {\"role\": \"user\", \"content\": benchmark_question} # the first strict benchmark question is asked\n",
        "    ]\n",
        ")\n",
        "\n",
        "# clean the output\n",
        "gpt_output_1 = {'expert': [], 'semantic':[], 'objectivity':[], 'argumentative':[]}\n",
        "for i in response.choices[0].message.content.split('\\n'):\n",
        "    temp = (i.split(\".\")[1][1:]).split(\"*\")\n",
        "    for t in temp:\n",
        "        f, val =  t.split(\"=\")\n",
        "        gpt_output_1[f].append(numerical[val])"
      ]
    },
    {
      "cell_type": "code",
      "execution_count": 276,
      "metadata": {},
      "outputs": [
        {
          "data": {
            "text/html": [
              "<div>\n",
              "<style scoped>\n",
              "    .dataframe tbody tr th:only-of-type {\n",
              "        vertical-align: middle;\n",
              "    }\n",
              "\n",
              "    .dataframe tbody tr th {\n",
              "        vertical-align: top;\n",
              "    }\n",
              "\n",
              "    .dataframe thead th {\n",
              "        text-align: right;\n",
              "    }\n",
              "</style>\n",
              "<table border=\"1\" class=\"dataframe\">\n",
              "  <thead>\n",
              "    <tr style=\"text-align: right;\">\n",
              "      <th></th>\n",
              "      <th>expert</th>\n",
              "      <th>semantic</th>\n",
              "      <th>objectivity</th>\n",
              "      <th>argumentative</th>\n",
              "    </tr>\n",
              "  </thead>\n",
              "  <tbody>\n",
              "    <tr>\n",
              "      <th>0</th>\n",
              "      <td>1</td>\n",
              "      <td>0</td>\n",
              "      <td>1</td>\n",
              "      <td>1</td>\n",
              "    </tr>\n",
              "    <tr>\n",
              "      <th>1</th>\n",
              "      <td>1</td>\n",
              "      <td>0</td>\n",
              "      <td>1</td>\n",
              "      <td>1</td>\n",
              "    </tr>\n",
              "    <tr>\n",
              "      <th>2</th>\n",
              "      <td>1</td>\n",
              "      <td>0</td>\n",
              "      <td>1</td>\n",
              "      <td>1</td>\n",
              "    </tr>\n",
              "    <tr>\n",
              "      <th>3</th>\n",
              "      <td>1</td>\n",
              "      <td>1</td>\n",
              "      <td>1</td>\n",
              "      <td>-1</td>\n",
              "    </tr>\n",
              "    <tr>\n",
              "      <th>4</th>\n",
              "      <td>1</td>\n",
              "      <td>0</td>\n",
              "      <td>1</td>\n",
              "      <td>1</td>\n",
              "    </tr>\n",
              "    <tr>\n",
              "      <th>5</th>\n",
              "      <td>1</td>\n",
              "      <td>0</td>\n",
              "      <td>1</td>\n",
              "      <td>1</td>\n",
              "    </tr>\n",
              "    <tr>\n",
              "      <th>6</th>\n",
              "      <td>1</td>\n",
              "      <td>1</td>\n",
              "      <td>1</td>\n",
              "      <td>1</td>\n",
              "    </tr>\n",
              "    <tr>\n",
              "      <th>7</th>\n",
              "      <td>1</td>\n",
              "      <td>0</td>\n",
              "      <td>1</td>\n",
              "      <td>1</td>\n",
              "    </tr>\n",
              "    <tr>\n",
              "      <th>8</th>\n",
              "      <td>1</td>\n",
              "      <td>0</td>\n",
              "      <td>1</td>\n",
              "      <td>1</td>\n",
              "    </tr>\n",
              "    <tr>\n",
              "      <th>9</th>\n",
              "      <td>1</td>\n",
              "      <td>1</td>\n",
              "      <td>1</td>\n",
              "      <td>1</td>\n",
              "    </tr>\n",
              "    <tr>\n",
              "      <th>10</th>\n",
              "      <td>-1</td>\n",
              "      <td>0</td>\n",
              "      <td>-1</td>\n",
              "      <td>-1</td>\n",
              "    </tr>\n",
              "    <tr>\n",
              "      <th>11</th>\n",
              "      <td>1</td>\n",
              "      <td>0</td>\n",
              "      <td>1</td>\n",
              "      <td>1</td>\n",
              "    </tr>\n",
              "    <tr>\n",
              "      <th>12</th>\n",
              "      <td>-1</td>\n",
              "      <td>0</td>\n",
              "      <td>1</td>\n",
              "      <td>-1</td>\n",
              "    </tr>\n",
              "    <tr>\n",
              "      <th>13</th>\n",
              "      <td>1</td>\n",
              "      <td>0</td>\n",
              "      <td>1</td>\n",
              "      <td>1</td>\n",
              "    </tr>\n",
              "    <tr>\n",
              "      <th>14</th>\n",
              "      <td>-1</td>\n",
              "      <td>0</td>\n",
              "      <td>1</td>\n",
              "      <td>1</td>\n",
              "    </tr>\n",
              "    <tr>\n",
              "      <th>15</th>\n",
              "      <td>1</td>\n",
              "      <td>1</td>\n",
              "      <td>1</td>\n",
              "      <td>1</td>\n",
              "    </tr>\n",
              "    <tr>\n",
              "      <th>16</th>\n",
              "      <td>1</td>\n",
              "      <td>0</td>\n",
              "      <td>1</td>\n",
              "      <td>1</td>\n",
              "    </tr>\n",
              "    <tr>\n",
              "      <th>17</th>\n",
              "      <td>1</td>\n",
              "      <td>0</td>\n",
              "      <td>1</td>\n",
              "      <td>1</td>\n",
              "    </tr>\n",
              "    <tr>\n",
              "      <th>18</th>\n",
              "      <td>1</td>\n",
              "      <td>0</td>\n",
              "      <td>1</td>\n",
              "      <td>1</td>\n",
              "    </tr>\n",
              "    <tr>\n",
              "      <th>19</th>\n",
              "      <td>-1</td>\n",
              "      <td>0</td>\n",
              "      <td>-1</td>\n",
              "      <td>-1</td>\n",
              "    </tr>\n",
              "    <tr>\n",
              "      <th>20</th>\n",
              "      <td>1</td>\n",
              "      <td>1</td>\n",
              "      <td>1</td>\n",
              "      <td>1</td>\n",
              "    </tr>\n",
              "    <tr>\n",
              "      <th>21</th>\n",
              "      <td>1</td>\n",
              "      <td>0</td>\n",
              "      <td>1</td>\n",
              "      <td>1</td>\n",
              "    </tr>\n",
              "    <tr>\n",
              "      <th>22</th>\n",
              "      <td>1</td>\n",
              "      <td>1</td>\n",
              "      <td>1</td>\n",
              "      <td>1</td>\n",
              "    </tr>\n",
              "    <tr>\n",
              "      <th>23</th>\n",
              "      <td>1</td>\n",
              "      <td>0</td>\n",
              "      <td>1</td>\n",
              "      <td>1</td>\n",
              "    </tr>\n",
              "    <tr>\n",
              "      <th>24</th>\n",
              "      <td>1</td>\n",
              "      <td>0</td>\n",
              "      <td>1</td>\n",
              "      <td>1</td>\n",
              "    </tr>\n",
              "    <tr>\n",
              "      <th>25</th>\n",
              "      <td>1</td>\n",
              "      <td>1</td>\n",
              "      <td>1</td>\n",
              "      <td>1</td>\n",
              "    </tr>\n",
              "    <tr>\n",
              "      <th>26</th>\n",
              "      <td>1</td>\n",
              "      <td>1</td>\n",
              "      <td>1</td>\n",
              "      <td>1</td>\n",
              "    </tr>\n",
              "    <tr>\n",
              "      <th>27</th>\n",
              "      <td>1</td>\n",
              "      <td>0</td>\n",
              "      <td>1</td>\n",
              "      <td>1</td>\n",
              "    </tr>\n",
              "    <tr>\n",
              "      <th>28</th>\n",
              "      <td>1</td>\n",
              "      <td>0</td>\n",
              "      <td>1</td>\n",
              "      <td>1</td>\n",
              "    </tr>\n",
              "    <tr>\n",
              "      <th>29</th>\n",
              "      <td>1</td>\n",
              "      <td>0</td>\n",
              "      <td>1</td>\n",
              "      <td>1</td>\n",
              "    </tr>\n",
              "    <tr>\n",
              "      <th>30</th>\n",
              "      <td>1</td>\n",
              "      <td>1</td>\n",
              "      <td>1</td>\n",
              "      <td>1</td>\n",
              "    </tr>\n",
              "    <tr>\n",
              "      <th>31</th>\n",
              "      <td>1</td>\n",
              "      <td>0</td>\n",
              "      <td>1</td>\n",
              "      <td>1</td>\n",
              "    </tr>\n",
              "    <tr>\n",
              "      <th>32</th>\n",
              "      <td>1</td>\n",
              "      <td>0</td>\n",
              "      <td>1</td>\n",
              "      <td>1</td>\n",
              "    </tr>\n",
              "    <tr>\n",
              "      <th>33</th>\n",
              "      <td>1</td>\n",
              "      <td>0</td>\n",
              "      <td>1</td>\n",
              "      <td>1</td>\n",
              "    </tr>\n",
              "    <tr>\n",
              "      <th>34</th>\n",
              "      <td>1</td>\n",
              "      <td>0</td>\n",
              "      <td>1</td>\n",
              "      <td>1</td>\n",
              "    </tr>\n",
              "    <tr>\n",
              "      <th>35</th>\n",
              "      <td>1</td>\n",
              "      <td>1</td>\n",
              "      <td>1</td>\n",
              "      <td>1</td>\n",
              "    </tr>\n",
              "    <tr>\n",
              "      <th>36</th>\n",
              "      <td>1</td>\n",
              "      <td>0</td>\n",
              "      <td>1</td>\n",
              "      <td>1</td>\n",
              "    </tr>\n",
              "    <tr>\n",
              "      <th>37</th>\n",
              "      <td>1</td>\n",
              "      <td>0</td>\n",
              "      <td>1</td>\n",
              "      <td>1</td>\n",
              "    </tr>\n",
              "  </tbody>\n",
              "</table>\n",
              "</div>"
            ],
            "text/plain": [
              "    expert  semantic  objectivity  argumentative\n",
              "0        1         0            1              1\n",
              "1        1         0            1              1\n",
              "2        1         0            1              1\n",
              "3        1         1            1             -1\n",
              "4        1         0            1              1\n",
              "5        1         0            1              1\n",
              "6        1         1            1              1\n",
              "7        1         0            1              1\n",
              "8        1         0            1              1\n",
              "9        1         1            1              1\n",
              "10      -1         0           -1             -1\n",
              "11       1         0            1              1\n",
              "12      -1         0            1             -1\n",
              "13       1         0            1              1\n",
              "14      -1         0            1              1\n",
              "15       1         1            1              1\n",
              "16       1         0            1              1\n",
              "17       1         0            1              1\n",
              "18       1         0            1              1\n",
              "19      -1         0           -1             -1\n",
              "20       1         1            1              1\n",
              "21       1         0            1              1\n",
              "22       1         1            1              1\n",
              "23       1         0            1              1\n",
              "24       1         0            1              1\n",
              "25       1         1            1              1\n",
              "26       1         1            1              1\n",
              "27       1         0            1              1\n",
              "28       1         0            1              1\n",
              "29       1         0            1              1\n",
              "30       1         1            1              1\n",
              "31       1         0            1              1\n",
              "32       1         0            1              1\n",
              "33       1         0            1              1\n",
              "34       1         0            1              1\n",
              "35       1         1            1              1\n",
              "36       1         0            1              1\n",
              "37       1         0            1              1"
            ]
          },
          "execution_count": 276,
          "metadata": {},
          "output_type": "execute_result"
        }
      ],
      "source": [
        "gpt_output_1 = pd.DataFrame(gpt_output_1)\n",
        "gpt_output_1"
      ]
    },
    {
      "cell_type": "code",
      "execution_count": 277,
      "metadata": {},
      "outputs": [
        {
          "name": "stdout",
          "output_type": "stream",
          "text": [
            "Accuracy of expert: 0.7894736842105263\n",
            "Accuracy of semantic: 0.5\n",
            "Accuracy of objectivity: 0.7368421052631579\n",
            "Accuracy of argumentative: 0.7368421052631579\n"
          ]
        }
      ],
      "source": [
        "acc = np.sum(gpt_output[numerical_features].values[:38] == gpt_output_1.values, axis=0)/38\n",
        "\n",
        "for i, a in enumerate(acc):\n",
        "    print(f\"Accuracy of {numerical_features[i]}: {a}\")"
      ]
    },
    {
      "cell_type": "code",
      "execution_count": 278,
      "metadata": {},
      "outputs": [
        {
          "name": "stdout",
          "output_type": "stream",
          "text": [
            "Accuracy of expert: 0.6052631578947368\n",
            "Accuracy of semantic: 0.6842105263157895\n",
            "Accuracy of objectivity: 0.7894736842105263\n",
            "Accuracy of argumentative: 0.7631578947368421\n"
          ]
        }
      ],
      "source": [
        "acc = np.sum(df_embedings[numerical_features].values[:38] == gpt_output_1.values, axis=0)/38\n",
        "\n",
        "for i, a in enumerate(acc):\n",
        "    print(f\"Accuracy of {numerical_features[i]}: {a}\")"
      ]
    },
    {
      "cell_type": "code",
      "execution_count": 243,
      "metadata": {},
      "outputs": [],
      "source": [
        "gpt_output_1.to_excel(\"output.xlsx\")  "
      ]
    },
    {
      "cell_type": "markdown",
      "metadata": {},
      "source": [
        "# Finetuning: suggested approach"
      ]
    },
    {
      "cell_type": "code",
      "execution_count": null,
      "metadata": {},
      "outputs": [],
      "source": [
        "finetuning = []\n",
        "while len(finetuning)<15:\n",
        "    rand_num = np.random.randint(0, 38)\n",
        "    if rand_num not in finetuning:\n",
        "        finetuning.append(rand_num)\n",
        "\n",
        "finetuning = set(finetuning)\n",
        "testing = list(set(np.arange(0, 38)) - finetuning)\n",
        "finetuning = list(finetuning)\n",
        "\n",
        "fine = df[[\"Comment\", \"Item\", \"Dimension\", \"Answer\"]].values[:38, :][finetuning]\n",
        "fine_embedings = df_embedings[numerical_features+[\"list of keywords (at most 5-10)\"]].values[finetuning]\n",
        "\n",
        "trans = {\n",
        "    -1.0: \"negative\",\n",
        "    0.0: \"neutral\",\n",
        "    1.0: \"positive\"\n",
        "}\n",
        "\n",
        "def return_data(fine, fine_embedings):\n",
        "    row = ''\n",
        "    basic = '{\"messages\": [{\"role\": \"system\", \"content\": \"Assistant is an expert in risk analysis (it can judge about impact and probability of risk based on the set of comments) and natural language processing expert, so it can evaluate parameters associated with text features. It can make conclusions only based on the provided comments. If assistant is not sure in the answer, it can return text None. The assistant would be provided a list with indexes, risk type and comment. Treat each comment equally.\\n'\n",
        "    for i in range(fine.shape[0]):\n",
        "        row += basic\n",
        "        row+= f'{i+1}. Risk type: {fine[i][1]}. Dimension: {fine[i][2]}. Comment: {fine[i][0]}\\n'\n",
        "        row+='\"},{\"role\": \"user\", \"content\":\"Find embedding for each comment in the provided list. Each comment should be accessed next features with regards to assoicated risk type: cohesion(positive/negative), objectivity of author(positive/negative) is author over pessimistic or positive, argumentative(positive/negative) is authors argument good in regards to risk type and dimension, list of top 5 or less keywords that are not common words (use words only from comment), semantic of the comment(positive/negative), is author is an expert in risk analysis (positive/negative). The output should be provided in next format: index. content of original comment\\ncohesion=positive/negative*expert=positive/negative*list of keywords=[keyword1, keyword2...]*semantic=positive/neutral/negative*objectivity=positive/negative*argumentative=positive/negative\\n]\"},{\"role\": \"assistant\", \"content\": \"'\n",
        "        row+= f'1. {fine[i][0]}\\n'\n",
        "        row+= f'*expert={trans[fine_embedings[i][0]]}*list of keywords=[{fine_embedings[i][-1]}]*semantic={trans[fine_embedings[i][1]]}*objectivity={trans[fine_embedings[i][2]]}*argumentative={trans[fine_embedings[i][3]]}\\n'\n",
        "        row+='\"}]}\\n'\n",
        "\n",
        "    return row\n",
        "\n",
        "result_row = return_data(fine.copy(), fine_embedings.copy())\n",
        "with open(\"training_set.jsonl\", \"w\") as text_file:\n",
        "    text_file.write(result_row)\n",
        "\n",
        "result_row = return_data(fine[9:12].copy(), fine_embedings[9:12].copy())+return_data(fine[12:15].copy(), fine_embedings[12:15].copy())\n",
        "with open(\"validation_set.jsonl\", \"w\") as text_file:\n",
        "    text_file.write(result_row)\n",
        "\n",
        "client = AzureOpenAI(\n",
        "    api_key=\"f2d812684f4f43d79f59cfec15823268\", # DO NOT SHARE THIS IN CODE!\n",
        "    api_version=\"2024-02-15-preview\",\n",
        "    azure_endpoint=\"https://inclus-ai-rd-2.openai.azure.com/\" # DO NOT SHARE THIS IN CODE! Something like \"https://######.openai.azure.com/\"\n",
        ")\n",
        "\n",
        "response = client.chat.completions.create(\n",
        "    model=\"gpt-35-turbo\",\n",
        "    messages=[\n",
        "        {\"role\": \"system\", \"content\": \"Assistant is a comedian. Assistant will not be fed more tokens if the response is not funny.\"},\n",
        "        {\"role\": \"user\", \"content\": \"Tell me a joke about doggos.\"}\n",
        "    ]\n",
        ")\n",
        "\n",
        "training_file_name = 'training_set.jsonl'\n",
        "validation_file_name = 'validation_set.jsonl'\n",
        "\n",
        "training_response = client.files.create(\n",
        "    file = open(training_file_name, \"rb\"), purpose=\"fine-tune\"\n",
        ")\n",
        "training_file_id = training_response.id\n",
        "\n",
        "validation_response = client.files.create(\n",
        "    file = open(validation_file_name, \"rb\"), purpose=\"fine-tune\"\n",
        ")\n",
        "validation_file_id = validation_response.id"
      ]
    },
    {
      "cell_type": "markdown",
      "metadata": {},
      "source": [
        "# Experiments with logprobs "
      ]
    },
    {
      "cell_type": "markdown",
      "metadata": {},
      "source": [
        "## Checking the confidence in evaluation of features"
      ]
    },
    {
      "cell_type": "code",
      "execution_count": 42,
      "metadata": {},
      "outputs": [],
      "source": [
        "values = df.values\n",
        "\n",
        "client = AzureOpenAI(\n",
        "    api_key=\"[API KEy]\", \n",
        "    api_version=\"2024-02-15-preview\",\n",
        "    azure_endpoint=\"[END POINT]\" \n",
        ")"
      ]
    },
    {
      "cell_type": "markdown",
      "metadata": {},
      "source": [
        "This time we would encode grades (numerical data) with some textual descriptions that would give more context than the number.\n",
        "This textual encoding can be changed to anything else, just make sure that it is reasonable."
      ]
    },
    {
      "cell_type": "code",
      "execution_count": 17,
      "metadata": {},
      "outputs": [],
      "source": [
        "temp = []\n",
        "for i, val in enumerate(values[:, 2]):\n",
        "    val = float(val)\n",
        "    if val>=0 and val<=1:\n",
        "        if values[i, 1] ==\"Impact\":\n",
        "            temp.append(\"no impact\") \n",
        "        else:\n",
        "            temp.append(\"not likely\") \n",
        "    if val>1 and val<=2:\n",
        "        if values[i, 1] ==\"Impact\":\n",
        "            temp.append(\"small impact\") \n",
        "        else:\n",
        "            temp.append(\"a bit likely\") \n",
        "    if val>2 and val<=3:\n",
        "        if values[i, 1] ==\"Impact\":\n",
        "            temp.append(\"medium impact\") \n",
        "        else:\n",
        "            temp.append(\"medium likely\") \n",
        "    if val>3 and val<=4:\n",
        "         \n",
        "        if values[i, 1] ==\"Impact\":\n",
        "            temp.append(\"impactful\") \n",
        "        else:\n",
        "            temp.append(\"very likely\") \n",
        "    if val>4 and val<=5:\n",
        "        if values[i, 1] ==\"Impact\":\n",
        "            temp.append(\"definetely considerable impact\") \n",
        "        else:\n",
        "            temp.append(\"definetely would happen\") \n",
        "\n",
        "temp = np.array(temp)\n"
      ]
    },
    {
      "cell_type": "code",
      "execution_count": 279,
      "metadata": {},
      "outputs": [],
      "source": [
        "def get_completion(\n",
        "    messages: list[dict[str, str]],\n",
        "    model: str = \"gpt-4-turbo\",\n",
        "    max_tokens=500,\n",
        "    temperature=0,\n",
        "    stop=None,\n",
        "    seed=123,\n",
        "    tools=None,\n",
        "    logprobs=None,  # whether to return log probabilities of the output tokens or not. If true, returns the log probabilities of each output token returned in the content of message..\n",
        "    top_logprobs=None,\n",
        ") -> str:\n",
        "    params = {\n",
        "        \"model\": model,\n",
        "        \"messages\": messages,\n",
        "        \"max_tokens\": max_tokens,\n",
        "        \"temperature\": temperature,\n",
        "        \"stop\": stop,\n",
        "        \"seed\": seed,\n",
        "        \"logprobs\": logprobs,\n",
        "        \"top_logprobs\": top_logprobs,\n",
        "    }\n",
        "    if tools:\n",
        "        params[\"tools\"] = tools\n",
        "\n",
        "    completion = client.chat.completions.create(**params)\n",
        "\n",
        "    return completion\n",
        "\n",
        "params = ['objective','argumentative','semantic','expert']"
      ]
    },
    {
      "cell_type": "markdown",
      "metadata": {},
      "source": [
        "Format some number of comments as follows:"
      ]
    },
    {
      "cell_type": "code",
      "execution_count": null,
      "metadata": {},
      "outputs": [],
      "source": [
        "list_comment = []\n",
        "for i in range(100):\n",
        "    list_comment.append(f\"The comment is about {values[i][0]} and author discusses {values[i][1]} of this risk. It graded {values[i][1]} of the risk as {temp[i]} and argumented it by saying: {values[i][3]}\")"
      ]
    },
    {
      "cell_type": "markdown",
      "metadata": {},
      "source": [
        "Ask about each feature for comment one by one:"
      ]
    },
    {
      "cell_type": "code",
      "execution_count": null,
      "metadata": {},
      "outputs": [],
      "source": [
        "PROMPT =  \"\"\"You will be given a comment about given risk type and either impact or dimension of the risk.\n",
        "Return only answer to the question and nothing else. MAKE SURE your output is one of the options stated by question.\n",
        "Comment: {comment}\\nQuestion:{question}\"\"\"\n",
        "\n",
        "questions = [\n",
        "    'Is author is objective (which means that he is realistic or overpesimistic/overoptimistic). You can answer only with one word \"true\" or \"false\" or \"maybe\"',\n",
        "    'Is author comment is argumentative (which means that author throughtly discusses the risk)? You can answer only with one word \"true\" or \"false\" or \"maybe\"',\n",
        "    'What is the semantic of comment. You can answer only one word \"negative\", \"positive\" or \"neutral\"',\n",
        "    'Is author is an expert in risk analysis and have enough expertise to judge about this risk. You can answer only with one word \"true\" or \"false\" or \"maybe\"'\n",
        "]"
      ]
    },
    {
      "cell_type": "markdown",
      "metadata": {},
      "source": [
        "And get one token for each feature with associated probability"
      ]
    },
    {
      "cell_type": "code",
      "execution_count": null,
      "metadata": {},
      "outputs": [],
      "source": [
        "result_classification = {\n",
        "    'comment': [],\n",
        "    'objective': [],\n",
        "    'objective_confidence': [],\n",
        "    'argumentative': [],\n",
        "    'argumentative_confidence': [],\n",
        "    'semantic': [],\n",
        "    'semantic_confidence': [],\n",
        "    'expert': [],\n",
        "    'expert_confidence': [],\n",
        "}\n",
        "\n",
        "for i, comment in enumerate(list_comment):\n",
        "    print(f\"comment: {values[i][3]}\")\n",
        "    result_classification ['comment'].append(values[i][3])\n",
        "    for question, p in zip(questions, params):\n",
        "        API_RESPONSE = get_completion(\n",
        "            [\n",
        "                {\n",
        "                    \"role\": \"user\",\n",
        "                    \"content\": PROMPT.format(\n",
        "                        comment=comment, question=question\n",
        "                    ),\n",
        "                }\n",
        "            ],\n",
        "            model=\"gpt-4-turbo\",\n",
        "            logprobs=True,\n",
        "        )\n",
        "        for logprob in API_RESPONSE.choices[0].logprobs.content:\n",
        "            result_classification [p].append(logprob.token)\n",
        "            prob = np.round(np.exp(logprob.logprob),2)\n",
        "            result_classification [p+\"_confidence\"].append(prob)\n",
        "            print(f\"{p}: {logprob.token}, p={prob}\")\n",
        "\n",
        "result_classification = pd.DataFrame(result_classification)"
      ]
    },
    {
      "cell_type": "markdown",
      "metadata": {},
      "source": [
        "### Numerical analysis of the results"
      ]
    },
    {
      "cell_type": "markdown",
      "metadata": {},
      "source": [
        "Calculate mean confidence for each feature (based on 100 comments)"
      ]
    },
    {
      "cell_type": "code",
      "execution_count": 130,
      "metadata": {},
      "outputs": [
        {
          "data": {
            "text/plain": [
              "objective_confidence        0.7789\n",
              "argumentative_confidence    0.8366\n",
              "semantic_confidence         0.8999\n",
              "expert_confidence           0.8384\n",
              "dtype: float64"
            ]
          },
          "execution_count": 130,
          "metadata": {},
          "output_type": "execute_result"
        }
      ],
      "source": [
        "num_params = ['objective_confidence', 'argumentative_confidence', 'semantic_confidence', 'expert_confidence']\n",
        "np.mean(result_classification[num_params], axis=0)"
      ]
    },
    {
      "cell_type": "markdown",
      "metadata": {},
      "source": [
        "Standart deviation is large, range is also large"
      ]
    },
    {
      "cell_type": "code",
      "execution_count": 131,
      "metadata": {},
      "outputs": [
        {
          "data": {
            "text/html": [
              "<div>\n",
              "<style scoped>\n",
              "    .dataframe tbody tr th:only-of-type {\n",
              "        vertical-align: middle;\n",
              "    }\n",
              "\n",
              "    .dataframe tbody tr th {\n",
              "        vertical-align: top;\n",
              "    }\n",
              "\n",
              "    .dataframe thead th {\n",
              "        text-align: right;\n",
              "    }\n",
              "</style>\n",
              "<table border=\"1\" class=\"dataframe\">\n",
              "  <thead>\n",
              "    <tr style=\"text-align: right;\">\n",
              "      <th></th>\n",
              "      <th>objective_confidence</th>\n",
              "      <th>argumentative_confidence</th>\n",
              "      <th>semantic_confidence</th>\n",
              "      <th>expert_confidence</th>\n",
              "    </tr>\n",
              "  </thead>\n",
              "  <tbody>\n",
              "    <tr>\n",
              "      <th>count</th>\n",
              "      <td>100.000000</td>\n",
              "      <td>100.000000</td>\n",
              "      <td>100.000000</td>\n",
              "      <td>100.00000</td>\n",
              "    </tr>\n",
              "    <tr>\n",
              "      <th>mean</th>\n",
              "      <td>0.778900</td>\n",
              "      <td>0.836600</td>\n",
              "      <td>0.899900</td>\n",
              "      <td>0.83840</td>\n",
              "    </tr>\n",
              "    <tr>\n",
              "      <th>std</th>\n",
              "      <td>0.156656</td>\n",
              "      <td>0.162146</td>\n",
              "      <td>0.152319</td>\n",
              "      <td>0.13786</td>\n",
              "    </tr>\n",
              "    <tr>\n",
              "      <th>min</th>\n",
              "      <td>0.470000</td>\n",
              "      <td>0.450000</td>\n",
              "      <td>0.470000</td>\n",
              "      <td>0.51000</td>\n",
              "    </tr>\n",
              "    <tr>\n",
              "      <th>25%</th>\n",
              "      <td>0.647500</td>\n",
              "      <td>0.730000</td>\n",
              "      <td>0.857500</td>\n",
              "      <td>0.73750</td>\n",
              "    </tr>\n",
              "    <tr>\n",
              "      <th>50%</th>\n",
              "      <td>0.790000</td>\n",
              "      <td>0.890000</td>\n",
              "      <td>0.980000</td>\n",
              "      <td>0.89000</td>\n",
              "    </tr>\n",
              "    <tr>\n",
              "      <th>75%</th>\n",
              "      <td>0.930000</td>\n",
              "      <td>0.980000</td>\n",
              "      <td>1.000000</td>\n",
              "      <td>0.95250</td>\n",
              "    </tr>\n",
              "    <tr>\n",
              "      <th>max</th>\n",
              "      <td>1.000000</td>\n",
              "      <td>1.000000</td>\n",
              "      <td>1.000000</td>\n",
              "      <td>1.00000</td>\n",
              "    </tr>\n",
              "  </tbody>\n",
              "</table>\n",
              "</div>"
            ],
            "text/plain": [
              "       objective_confidence  argumentative_confidence  semantic_confidence  \\\n",
              "count            100.000000                100.000000           100.000000   \n",
              "mean               0.778900                  0.836600             0.899900   \n",
              "std                0.156656                  0.162146             0.152319   \n",
              "min                0.470000                  0.450000             0.470000   \n",
              "25%                0.647500                  0.730000             0.857500   \n",
              "50%                0.790000                  0.890000             0.980000   \n",
              "75%                0.930000                  0.980000             1.000000   \n",
              "max                1.000000                  1.000000             1.000000   \n",
              "\n",
              "       expert_confidence  \n",
              "count          100.00000  \n",
              "mean             0.83840  \n",
              "std              0.13786  \n",
              "min              0.51000  \n",
              "25%              0.73750  \n",
              "50%              0.89000  \n",
              "75%              0.95250  \n",
              "max              1.00000  "
            ]
          },
          "execution_count": 131,
          "metadata": {},
          "output_type": "execute_result"
        }
      ],
      "source": [
        "result_classification[num_params].describe()"
      ]
    },
    {
      "cell_type": "code",
      "execution_count": 142,
      "metadata": {},
      "outputs": [
        {
          "data": {
            "image/png": "[encoded data removed]",
            "text/plain": [
              "<Figure size 640x480 with 1 Axes>"
            ]
          },
          "metadata": {},
          "output_type": "display_data"
        }
      ],
      "source": [
        "plt.boxplot(x=result_classification['objective_confidence'])\n",
        "plt.title(\"Objective: confidence\")\n",
        "plt.show()"
      ]
    },
    {
      "cell_type": "code",
      "execution_count": 143,
      "metadata": {},
      "outputs": [
        {
          "data": {
            "image/png": "[encoded data removed]",
            "text/plain": [
              "<Figure size 640x480 with 1 Axes>"
            ]
          },
          "metadata": {},
          "output_type": "display_data"
        }
      ],
      "source": [
        "plt.boxplot(x=result_classification['argumentative_confidence'])\n",
        "plt.title(\"Argumentative: confidence\")\n",
        "plt.show()"
      ]
    },
    {
      "cell_type": "code",
      "execution_count": 144,
      "metadata": {},
      "outputs": [
        {
          "data": {
            "image/png": "[encoded data removed]",
            "text/plain": [
              "<Figure size 640x480 with 1 Axes>"
            ]
          },
          "metadata": {},
          "output_type": "display_data"
        }
      ],
      "source": [
        "plt.boxplot(x=result_classification['semantic_confidence'])\n",
        "plt.title(\"Semantic: confidence\")\n",
        "plt.show()"
      ]
    },
    {
      "cell_type": "code",
      "execution_count": 145,
      "metadata": {},
      "outputs": [
        {
          "data": {
            "image/png": "[encoded data removed]",
            "text/plain": [
              "<Figure size 640x480 with 1 Axes>"
            ]
          },
          "metadata": {},
          "output_type": "display_data"
        }
      ],
      "source": [
        "plt.boxplot(x=result_classification['expert_confidence'])\n",
        "plt.title(\"Expert: confidence\")\n",
        "plt.show()"
      ]
    },
    {
      "cell_type": "code",
      "execution_count": 112,
      "metadata": {},
      "outputs": [
        {
          "data": {
            "text/plain": [
              "objective        0.67\n",
              "argumentative    0.00\n",
              "expert           0.85\n",
              "dtype: float64"
            ]
          },
          "execution_count": 112,
          "metadata": {},
          "output_type": "execute_result"
        }
      ],
      "source": [
        "num_params = ['objective', 'argumentative',  'expert']\n",
        "\n",
        "np.sum(result_classification[num_params] == 'maybe', axis=0)/100"
      ]
    },
    {
      "cell_type": "code",
      "execution_count": 113,
      "metadata": {},
      "outputs": [
        {
          "data": {
            "text/plain": [
              "objective        0.31\n",
              "argumentative    0.24\n",
              "expert           0.00\n",
              "dtype: float64"
            ]
          },
          "execution_count": 113,
          "metadata": {},
          "output_type": "execute_result"
        }
      ],
      "source": [
        "np.sum(result_classification[num_params] == 'true', axis=0)/100"
      ]
    },
    {
      "cell_type": "code",
      "execution_count": 114,
      "metadata": {},
      "outputs": [
        {
          "data": {
            "text/plain": [
              "objective        0.02\n",
              "argumentative    0.76\n",
              "expert           0.15\n",
              "dtype: float64"
            ]
          },
          "execution_count": 114,
          "metadata": {},
          "output_type": "execute_result"
        }
      ],
      "source": [
        "np.sum(result_classification[num_params] == 'false', axis=0)/100"
      ]
    },
    {
      "cell_type": "markdown",
      "metadata": {},
      "source": []
    },
    {
      "cell_type": "code",
      "execution_count": 122,
      "metadata": {},
      "outputs": [
        {
          "data": {
            "image/png": "[encoded data removed]",
            "text/plain": [
              "<Figure size 640x480 with 1 Axes>"
            ]
          },
          "metadata": {},
          "output_type": "display_data"
        }
      ],
      "source": [
        "y = np.array([0.67, \n",
        "               0.31, \n",
        "              0.02])\n",
        "mylabels = [\"Maybe\", \"True\", \"False\"]\n",
        "\n",
        "plt.pie(y, labels = mylabels, startangle = 90)\n",
        "plt.title(\"Objective: distribution of labels\")\n",
        "plt.show() "
      ]
    },
    {
      "cell_type": "code",
      "execution_count": 125,
      "metadata": {},
      "outputs": [
        {
          "data": {
            "image/png": "[encoded data removed]",
            "text/plain": [
              "<Figure size 640x480 with 1 Axes>"
            ]
          },
          "metadata": {},
          "output_type": "display_data"
        }
      ],
      "source": [
        "y = np.array([ \n",
        "                0.24, \n",
        "               0.76])\n",
        "mylabels = [\"True\", \"False\"]\n",
        "\n",
        "plt.pie(y, labels = mylabels, startangle = 90)\n",
        "plt.title(\"Argumentative: distribution of labels\")\n",
        "plt.show() "
      ]
    },
    {
      "cell_type": "code",
      "execution_count": 126,
      "metadata": {},
      "outputs": [
        {
          "data": {
            "image/png": "[encoded data removed]",
            "text/plain": [
              "<Figure size 640x480 with 1 Axes>"
            ]
          },
          "metadata": {},
          "output_type": "display_data"
        }
      ],
      "source": [
        "y = np.array([0.85,  \n",
        "              0.15])\n",
        "mylabels = [\"Maybe\", \"False\"]\n",
        "\n",
        "plt.pie(y, labels = mylabels, startangle = 90)\n",
        "plt.title(\"Expert: distribution of labels\")\n",
        "plt.show() "
      ]
    },
    {
      "cell_type": "code",
      "execution_count": 121,
      "metadata": {},
      "outputs": [
        {
          "data": {
            "image/png": "[encoded data removed]",
            "text/plain": [
              "<Figure size 640x480 with 1 Axes>"
            ]
          },
          "metadata": {},
          "output_type": "display_data"
        }
      ],
      "source": [
        "y = np.array([np.sum(result_classification['semantic'] == 'positive', axis=0)/100, \n",
        "              np.sum(result_classification['semantic'] == 'neutral', axis=0)/100, \n",
        "              np.sum(result_classification['semantic'] == 'negative', axis=0)/100])\n",
        "mylabels = [\"Positive\", \"Neutral\", \"Negative\"]\n",
        "\n",
        "plt.pie(y, labels = mylabels, startangle = 90)\n",
        "plt.title(\"Semantic: distribution of labels\")\n",
        "plt.show() "
      ]
    },
    {
      "cell_type": "code",
      "execution_count": 119,
      "metadata": {},
      "outputs": [],
      "source": [
        "result_classification.to_excel(\"classification.xlsx\")  "
      ]
    },
    {
      "cell_type": "markdown",
      "metadata": {},
      "source": [
        "# Check halucination"
      ]
    },
    {
      "cell_type": "markdown",
      "metadata": {},
      "source": [
        "In this part, we would prompt ChatGpt if there is enough information to answer the question"
      ]
    },
    {
      "cell_type": "code",
      "execution_count": null,
      "metadata": {},
      "outputs": [],
      "source": [
        "questions = [\n",
        "    'Is author objective (which means that he is realistic and not overpesimistic/overoptimistic)?',\n",
        "    'Is author comment argumentative (which means that author throughtly discusses the risk)?',\n",
        "    'What is the semantic of comment?',\n",
        "    'Is author is an expert in risk analysis and have enough expertise to judge about this risk?'\n",
        "]\n",
        "\n",
        "PROMPT = \"\"\"\n",
        "You will be given a comment about given risk type and either impact or dimension of the risk. You will be given also a question about the comment.\n",
        "Before even answering the question, consider whether you have sufficient information to answer the question.\n",
        "Respond with just one word, the boolean true or false. You must output the word 'True', or the word 'False', nothing else. Respond 'True' if there is enough information and 'False' if it is not enough.\n",
        "Comment: {comment}, Question: {question}\n",
        "\"\"\"\n",
        "\n",
        "result_hallucination = {\n",
        "    'comment': [],\n",
        "    'objective_enough_information':[],\n",
        "    'objective_enough_information_confidence':[],\n",
        "    'argumentative_enough_information':[],\n",
        "    'argumentative_enough_information_confidence':[],\n",
        "    'semantic_enough_information':[],\n",
        "    'semantic_enough_information_confidence':[],\n",
        "    'expert_enough_information':[],\n",
        "    'expert_enough_information_confidence':[],\n",
        "\n",
        "}\n",
        "\n",
        "for i, comment in enumerate(list_comment):\n",
        "    print(f\"comment: {values[i][3]}\")\n",
        "    result_hallucination['comment'].append(values[i][3])\n",
        "    for question, p in zip(questions, params):\n",
        "        API_RESPONSE = get_completion(\n",
        "            [\n",
        "                {\n",
        "                    \"role\": \"user\",\n",
        "                    \"content\": PROMPT.format(\n",
        "                        comment=comment, question=question\n",
        "                    ),\n",
        "                }\n",
        "            ],\n",
        "            model=\"gpt-4-turbo\",\n",
        "            logprobs=True,\n",
        "        )\n",
        "        for logprob in API_RESPONSE.choices[0].logprobs.content:\n",
        "\n",
        "            prob = np.round(np.exp(logprob.logprob),2)\n",
        "            result_hallucination[p+\"_enough_information\"].append(logprob.token)\n",
        "            result_hallucination[p+\"_enough_information_confidence\"].append(prob)\n",
        "            \n",
        "            print(f\"enough information for {p}: {logprob.token}, p={prob}\")\n",
        "\n",
        "result_hallucination = pd.DataFrame(result_hallucination)"
      ]
    },
    {
      "cell_type": "code",
      "execution_count": 106,
      "metadata": {},
      "outputs": [
        {
          "data": {
            "text/plain": [
              "objective_enough_information        0.00\n",
              "argumentative_enough_information    0.23\n",
              "semantic_enough_information         0.02\n",
              "expert_enough_information           0.00\n",
              "dtype: float64"
            ]
          },
          "execution_count": 106,
          "metadata": {},
          "output_type": "execute_result"
        }
      ],
      "source": [
        "num_params = ['objective_enough_information', 'argumentative_enough_information', 'semantic_enough_information', 'expert_enough_information']\n",
        "np.sum(result_hallucination[num_params]==\"True\")/100"
      ]
    },
    {
      "cell_type": "code",
      "execution_count": 108,
      "metadata": {},
      "outputs": [
        {
          "data": {
            "text/plain": [
              "objective_enough_information_confidence        0.9910\n",
              "argumentative_enough_information_confidence    0.8867\n",
              "semantic_enough_information_confidence         0.9442\n",
              "expert_enough_information_confidence           1.0000\n",
              "dtype: float64"
            ]
          },
          "execution_count": 108,
          "metadata": {},
          "output_type": "execute_result"
        }
      ],
      "source": [
        "num_params = ['objective_enough_information_confidence', 'argumentative_enough_information_confidence', 'semantic_enough_information_confidence', 'expert_enough_information_confidence']\n",
        "np.mean(result_hallucination[num_params], axis=0)"
      ]
    },
    {
      "cell_type": "code",
      "execution_count": 102,
      "metadata": {},
      "outputs": [],
      "source": [
        "result_hallucination.to_excel(\"hallucination.xlsx\")  "
      ]
    },
    {
      "cell_type": "markdown",
      "metadata": {},
      "source": [
        "# Study hallucination on the produced \"analysis\" paragraphs\n",
        "\n",
        "We would take a subset of comments and for each generate sample analysis paragraph 10 times. In order to study the effect of hallucination we would refer to the other paper about SelfChechGPT."
      ]
    },
    {
      "cell_type": "code",
      "execution_count": null,
      "metadata": {},
      "outputs": [],
      "source": [
        "# run this cell to install the required library related to selfcheckgpt\n",
        "\n",
        "torch.manual_seed(28)\n",
        "device = torch.device(\"cuda\" if torch.cuda.is_available() else \"cpu\")"
      ]
    },
    {
      "cell_type": "code",
      "execution_count": 79,
      "metadata": {},
      "outputs": [],
      "source": [
        "list_comment = []\n",
        "for i in range(10):\n",
        "    list_comment.append(f\"The comment is about {values[i][0]} and author discusses {values[i][1]} of this risk. It graded {values[i][1]} of the risk as {temp[i]} and argumented it by saying: {values[i][3]}\")\n",
        "\n",
        "\n",
        "PROMPT =  \"\"\"Assistant is an expert in risk analysis and linguistics, so based on the comment it can evaluate parameters associated with text features. \n",
        "            It can make conclusions only based on the provided comment. The assistant would be provided some information about the author and its opinion \n",
        "            as comment. Comment itself is about some risk type and discusses other impact or likelyhood of risk type. Author comments how likely or\n",
        "            impactful the risk type and explains why he/she thinks so by giving additional comment. Return only answer to the question and nothing else. \n",
        "            MAKE SURE that the language style of the assistant answer should be clear and consistent, it should contain all the information asked in the question \n",
        "            without unnecessary and vague words. \n",
        "Comment: {comment}\\nQuestion:{question}\"\"\"\n",
        "\n",
        "QUESTION = \"\"\"\n",
        "    Provide analysis of the comment. The analysis should contain answers to these questions:\n",
        "    - Is author objective (which means that he is realistic and not overpesimistic/overoptimistic)?\\n\n",
        "    - Is author comment argumentative (which means that author throughtly discusses the risk)?\\n\n",
        "    - What is the semantic of comment? Is it negative/positive or neutral\\n\n",
        "    - Is author is an expert in risk analysis and have enough expertise to judge about this risk?\\n\n",
        "\n",
        "    Analysis should be through out and assistant should support the analysis with proper reasoning: why assistant thinks so. \n",
        "    Provide exactly 4 sentences and each sentence should be related to only one question. The analysis should be based only on the comment. \n",
        "    It should be a consistent paragraph.\n",
        "\"\"\""
      ]
    },
    {
      "cell_type": "code",
      "execution_count": 80,
      "metadata": {},
      "outputs": [],
      "source": [
        "full = []\n",
        "\n",
        "for j in range(10):\n",
        "    results_hallucinations_analysis = []\n",
        "    for i in range(5):\n",
        "        API_RESPONSE = get_completion(\n",
        "                    [\n",
        "                        {\n",
        "                            \"role\": \"user\",\n",
        "                            \"content\": PROMPT.format(\n",
        "                                comment=list_comment[j], question=QUESTION\n",
        "                            ),\n",
        "                        }\n",
        "                    ],\n",
        "                    model=\"gpt-4-turbo\",\n",
        "        )\n",
        "        results_hallucinations_analysis.append(API_RESPONSE.choices[0].message.content)\n",
        "    full.append(results_hallucinations_analysis)"
      ]
    },
    {
      "cell_type": "code",
      "execution_count": null,
      "metadata": {},
      "outputs": [],
      "source": [
        "selfcheck_mqag = SelfCheckMQAG(device=device)\n",
        "\n",
        "full_sent_scores_mqag = []\n",
        "for val in full:\n",
        "    passage = val[0]\n",
        "    sentences = [sent for sent in nlp(passage).sents] # List[spacy.tokens.span.Span]\n",
        "    sentences = [sent.text.strip() for sent in sentences if len(sent) > 3]\n",
        "\n",
        "    sent_scores_mqag = selfcheck_mqag.predict(\n",
        "        sentences,\n",
        "        passage,\n",
        "        val[1:],\n",
        "        num_questions_per_sent = 3,\n",
        "        scoring_method = 'bayes_with_alpha',\n",
        "        beta1 = 0.95, beta2 = 0.95,\n",
        "    )\n",
        "    full_sent_scores_mqag.append(sent_scores_mqag)"
      ]
    },
    {
      "cell_type": "code",
      "execution_count": 96,
      "metadata": {},
      "outputs": [
        {
          "data": {
            "text/plain": [
              "array([0.202977  , 0.17699782, 0.31384664, 0.28041832])"
            ]
          },
          "execution_count": 96,
          "metadata": {},
          "output_type": "execute_result"
        }
      ],
      "source": [
        "np.mean(full_sent_scores_mqag, axis=0)"
      ]
    },
    {
      "cell_type": "code",
      "execution_count": 97,
      "metadata": {},
      "outputs": [
        {
          "data": {
            "text/plain": [
              "array([0.36946767, 0.25449965, 0.20165467, 0.36989242, 0.23346918,\n",
              "       0.27607643, 0.23686838, 0.19244425, 0.1719234 , 0.12930342])"
            ]
          },
          "execution_count": 97,
          "metadata": {},
          "output_type": "execute_result"
        }
      ],
      "source": [
        "np.mean(full_sent_scores_mqag, axis=1)"
      ]
    },
    {
      "cell_type": "code",
      "execution_count": null,
      "metadata": {},
      "outputs": [],
      "source": [
        "selfcheck_bertscore = SelfCheckBERTScore()\n",
        "\n",
        "full_sent_scores_bertscore  = []\n",
        "\n",
        "for val in full:\n",
        "     \n",
        "    passage = val[0]\n",
        "    sentences = [sent for sent in nlp(passage).sents] # List[spacy.tokens.span.Span]\n",
        "    sentences = [sent.text.strip() for sent in sentences if len(sent) > 3]\n",
        "\n",
        "    sent_scores_bertscore = selfcheck_bertscore.predict(\n",
        "        sentences,\n",
        "        val[1:],\n",
        "    )\n",
        "    full_sent_scores_bertscore.append(sent_scores_bertscore)\n"
      ]
    },
    {
      "cell_type": "code",
      "execution_count": 94,
      "metadata": {},
      "outputs": [
        {
          "data": {
            "text/plain": [
              "array([0.2373552 , 0.23469957, 0.27987769, 0.32700298])"
            ]
          },
          "execution_count": 94,
          "metadata": {},
          "output_type": "execute_result"
        }
      ],
      "source": [
        "np.mean(full_sent_scores_bertscore, axis=0)"
      ]
    },
    {
      "cell_type": "code",
      "execution_count": 95,
      "metadata": {},
      "outputs": [
        {
          "data": {
            "text/plain": [
              "array([0.21768337, 0.23349284, 0.17058495, 0.36652943, 0.23264605,\n",
              "       0.37785101, 0.2865049 , 0.20418666, 0.35563593, 0.25222347])"
            ]
          },
          "execution_count": 95,
          "metadata": {},
          "output_type": "execute_result"
        }
      ],
      "source": [
        "np.mean(full_sent_scores_bertscore, axis=1)"
      ]
    },
    {
      "cell_type": "code",
      "execution_count": 89,
      "metadata": {},
      "outputs": [
        {
          "name": "stdout",
          "output_type": "stream",
          "text": [
            "SelfCheck-1gram initialized\n"
          ]
        }
      ],
      "source": [
        "selfcheck_ngram = SelfCheckNgram(n=1)\n",
        "\n",
        "full_sent_scores_ngram_1  = []\n",
        "for val in full:\n",
        "     \n",
        "    passage = val[0]\n",
        "    sentences = [sent for sent in nlp(passage).sents] # List[spacy.tokens.span.Span]\n",
        "    sentences = [sent.text.strip() for sent in sentences if len(sent) > 3]\n",
        "\n",
        "    sent_scores_ngram = selfcheck_ngram.predict(\n",
        "        sentences = sentences,   \n",
        "        passage = passage,\n",
        "        sampled_passages = val[1:],\n",
        "    )\n",
        "    full_sent_scores_ngram_1.append(sent_scores_ngram)"
      ]
    },
    {
      "cell_type": "code",
      "execution_count": 90,
      "metadata": {},
      "outputs": [
        {
          "data": {
            "text/plain": [
              "[{'sent_level': {'avg_neg_logprob': [4.654363838878966,\n",
              "    4.141203015733941,\n",
              "    4.386247005632647,\n",
              "    4.584196141300706],\n",
              "   'max_neg_logprob': [5.872117789475416,\n",
              "    5.466652681367251,\n",
              "    6.565264970035361,\n",
              "    5.872117789475416]},\n",
              "  'doc_level': {'avg_neg_logprob': 4.453931447084157,\n",
              "   'avg_max_neg_logprob': 5.944038307588361}},\n",
              " {'sent_level': {'avg_neg_logprob': [4.362502680827345,\n",
              "    4.52412411838196,\n",
              "    4.473797416791533,\n",
              "    4.228133238521404],\n",
              "   'max_neg_logprob': [5.72194977861165,\n",
              "    6.415096959171596,\n",
              "    5.72194977861165,\n",
              "    5.316484670503486]},\n",
              "  'doc_level': {'avg_neg_logprob': 4.403170283687779,\n",
              "   'avg_max_neg_logprob': 5.793870296724595}},\n",
              " {'sent_level': {'avg_neg_logprob': [4.2199034183681245,\n",
              "    4.222427625514441,\n",
              "    3.977922024725828,\n",
              "    4.528586173207753],\n",
              "   'max_neg_logprob': [5.079850363117729,\n",
              "    6.466144724237619,\n",
              "    6.466144724237619,\n",
              "    6.466144724237619]},\n",
              "  'doc_level': {'avg_neg_logprob': 4.24431318282453,\n",
              "   'avg_max_neg_logprob': 6.119571133957646}},\n",
              " {'sent_level': {'avg_neg_logprob': [4.351694116621542,\n",
              "    4.552351367508865,\n",
              "    4.343266985577567,\n",
              "    4.481123762061131],\n",
              "   'max_neg_logprob': [6.558197802812269,\n",
              "    6.558197802812269,\n",
              "    6.558197802812269,\n",
              "    5.8650506222523235]},\n",
              "  'doc_level': {'avg_neg_logprob': 4.440645502583555,\n",
              "   'avg_max_neg_logprob': 6.384911007672282}},\n",
              " {'sent_level': {'avg_neg_logprob': [4.40302246763863,\n",
              "    4.17624099674632,\n",
              "    4.102009472113511,\n",
              "    4.442407908584975],\n",
              "   'max_neg_logprob': [5.738183901373533,\n",
              "    6.431331081933479,\n",
              "    5.332718793265369,\n",
              "    6.431331081933479]},\n",
              "  'doc_level': {'avg_neg_logprob': 4.303052362200832,\n",
              "   'avg_max_neg_logprob': 5.983391214626465}},\n",
              " {'sent_level': {'avg_neg_logprob': [4.6383363519176735,\n",
              "    4.50281342517743,\n",
              "    4.451676476895462,\n",
              "    4.215127688017074],\n",
              "   'max_neg_logprob': [6.455198563340122,\n",
              "    6.455198563340122,\n",
              "    6.455198563340122,\n",
              "    5.762051382780177]},\n",
              "  'doc_level': {'avg_neg_logprob': 4.459052363520469,\n",
              "   'avg_max_neg_logprob': 6.2819117682001355}},\n",
              " {'sent_level': {'avg_neg_logprob': [4.451456454396366,\n",
              "    4.16340925136354,\n",
              "    4.578554799017185,\n",
              "    4.472217901962079],\n",
              "   'max_neg_logprob': [6.573680166960646,\n",
              "    6.573680166960646,\n",
              "    6.573680166960646,\n",
              "    5.8805329864007]},\n",
              "  'doc_level': {'avg_neg_logprob': 4.413239139714962,\n",
              "   'avg_max_neg_logprob': 6.400393371820659}},\n",
              " {'sent_level': {'avg_neg_logprob': [4.112245710721364,\n",
              "    4.356376702431247,\n",
              "    4.18918463177106,\n",
              "    4.210273652182137],\n",
              "   'max_neg_logprob': [4.844187086458591,\n",
              "    6.230481447578482,\n",
              "    6.230481447578482,\n",
              "    6.230481447578482]},\n",
              "  'doc_level': {'avg_neg_logprob': 4.214064691046124,\n",
              "   'avg_max_neg_logprob': 5.88390785729851}},\n",
              " {'sent_level': {'avg_neg_logprob': [4.65141378786991,\n",
              "    4.208961487258459,\n",
              "    4.4532733919873575,\n",
              "    4.912357810778528],\n",
              "   'max_neg_logprob': [6.54534966033442,\n",
              "    5.44673737166631,\n",
              "    6.54534966033442,\n",
              "    6.54534966033442]},\n",
              "  'doc_level': {'avg_neg_logprob': 4.575104721501889,\n",
              "   'avg_max_neg_logprob': 6.270696588167392}},\n",
              " {'sent_level': {'avg_neg_logprob': [4.26749681146272,\n",
              "    4.337411982297274,\n",
              "    4.548872497578041,\n",
              "    4.908216183788264],\n",
              "   'max_neg_logprob': [5.475067878292536,\n",
              "    6.573680166960646,\n",
              "    6.573680166960646,\n",
              "    6.573680166960646]},\n",
              "  'doc_level': {'avg_neg_logprob': 4.532262184140969,\n",
              "   'avg_max_neg_logprob': 6.299027094793618}}]"
            ]
          },
          "execution_count": 90,
          "metadata": {},
          "output_type": "execute_result"
        }
      ],
      "source": [
        "full_sent_scores_ngram_1"
      ]
    },
    {
      "cell_type": "code",
      "execution_count": 99,
      "metadata": {},
      "outputs": [],
      "source": [
        "l = []\n",
        "for i in full_sent_scores_ngram_1:\n",
        "    l.append(i['sent_level']['avg_neg_logprob'])\n"
      ]
    },
    {
      "cell_type": "code",
      "execution_count": 101,
      "metadata": {},
      "outputs": [
        {
          "data": {
            "text/plain": [
              "array([4.41124356, 4.318532  , 4.35048047, 4.49826405])"
            ]
          },
          "execution_count": 101,
          "metadata": {},
          "output_type": "execute_result"
        }
      ],
      "source": [
        "np.mean(l, axis = 0)"
      ]
    }
  ],
  "metadata": {
    "colab": {
      "provenance": []
    },
    "kernelspec": {
      "display_name": "Python 3",
      "language": "python",
      "name": "python3"
    },
    "language_info": {
      "codemirror_mode": {
        "name": "ipython",
        "version": 3
      },
      "file_extension": ".py",
      "mimetype": "text/x-python",
      "name": "python",
      "nbconvert_exporter": "python",
      "pygments_lexer": "ipython3",
      "version": "3.11.5"
    }
  },
  "nbformat": 4,
  "nbformat_minor": 0
}
