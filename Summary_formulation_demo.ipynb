{
 "cells": [
  {
   "cell_type": "markdown",
   "metadata": {},
   "source": [
    "# Inclus AI – Demo Summary Formulation"
   ]
  },
  {
   "cell_type": "code",
   "execution_count": 71,
   "metadata": {},
   "outputs": [],
   "source": [
    "# import all neccesary libraries \n",
    "\n",
    "import pandas as pd\n",
    "from openai import AzureOpenAI"
   ]
  },
  {
   "cell_type": "code",
   "execution_count": null,
   "metadata": {},
   "outputs": [],
   "source": [
    "# innitialize client\n",
    "client = AzureOpenAI(\n",
    "    api_key=\"API KEY\",\n",
    "    api_version=\"2024-02-15-preview\",\n",
    "    azure_endpoint=\"ENDPOINT\" \n",
    ")"
   ]
  },
  {
   "cell_type": "code",
   "execution_count": null,
   "metadata": {},
   "outputs": [],
   "source": [
    "# read data\n",
    "df = pd.read_excel(\"inclusData.xlsx\")"
   ]
  },
  {
   "cell_type": "code",
   "execution_count": null,
   "metadata": {},
   "outputs": [],
   "source": [
    "# Function to convert numbers to text\n",
    "def convert_to_text(row):\n",
    "    number=row['Answer']\n",
    "    types=row['Dimension']\n",
    "    if types=='Likelyhood':\n",
    "        if number <=1:\n",
    "            return 'Insignificant'\n",
    "        elif 1<number<=2:\n",
    "            return 'Small'\n",
    "        elif 2<number<=3:\n",
    "            return 'Medium'\n",
    "        elif 3<=number<=4:\n",
    "            return 'Likely'\n",
    "        else:\n",
    "            return 'Very likely'\n",
    "    elif types=='Impact':\n",
    "        if number <=1:\n",
    "            return 'Insignificant'\n",
    "        elif 1<number<=2:\n",
    "            return 'Small'\n",
    "        elif 2<number<=3:\n",
    "            return 'Medium'\n",
    "        elif 3<=number<=4:\n",
    "            return 'Large'\n",
    "        else:\n",
    "            return 'Major'\n",
    "\n",
    "# Apply the function to the 'Answer' column\n",
    "df['Answer'] = df.apply(convert_to_text, axis=1)"
   ]
  },
  {
   "cell_type": "markdown",
   "metadata": {},
   "source": [
    "Constructing prompt:"
   ]
  },
  {
   "cell_type": "code",
   "execution_count": null,
   "metadata": {},
   "outputs": [],
   "source": [
    "formatted_strings = []\n",
    "\n",
    "# Iterate over each row and format it as desired\n",
    "for index, row in df.iterrows():\n",
    "    formatted_string = f\"ITEM: {row['Item']}, Comment: {row['Comment']}, Evaluation of {row['Dimension']} : {row['Answer']}\"\n",
    "    formatted_strings.append(formatted_string)\n",
    "\n",
    "# Concatenate all formatted strings into one long string\n",
    "long_string = '\\n'.join(formatted_strings)"
   ]
  },
  {
   "cell_type": "code",
   "execution_count": null,
   "metadata": {},
   "outputs": [],
   "source": [
    "# Here we define the 'instruction' for the 'system' part for the prompt. Here the data 'risk_data' is also injected into the prompt, but it could be presented elsewhere.\n",
    "prompt_engineering_majick = 'The assistant is a risk analyst.'\n",
    "company_context = 'Inclus is a Finnish scaleup company that provides a platform for doing collaborative risk analysis.'\n",
    "data_context = 'The data that is provided below is gathered from multiple people within Inclus and concerns multiple risk events. Each risk event is described in a header above the individual assessments. Treat each comment equally.'\n",
    "\n",
    "context_for_GPT = [\n",
    "prompt_engineering_majick,\n",
    "company_context,\n",
    "data_context,\n",
    "long_string,\n",
    "]\n",
    "system_content = '\\n'.join(context_for_GPT) # goes into the prompt in 'messages' part in line '{\"role\": \"system\", \"content\": system_content}' later"
   ]
  },
  {
   "cell_type": "markdown",
   "metadata": {},
   "source": [
    "Prompting ChatGpt to generate summaries"
   ]
  },
  {
   "cell_type": "code",
   "execution_count": null,
   "metadata": {},
   "outputs": [],
   "source": [
    "response = client.chat.completions.create(\n",
    "    model=\"gpt-4-turbo\",\n",
    "    messages=[\n",
    "        {\"role\": \"system\", \"content\": system_content},\n",
    "        {\"role\": \"user\", \"content\": \"Write an executive summary of the results of the risk analysis. Expected output: Several paragraphs of high-quality text that correctly describe important features of the data, such as significant risks, high-quality comments, and so on.\"}\n",
    "    ],\n",
    ")"
   ]
  }
 ],
 "metadata": {
  "kernelspec": {
   "display_name": "Python 3",
   "language": "python",
   "name": "python3"
  },
  "language_info": {
   "codemirror_mode": {
    "name": "ipython",
    "version": 3
   },
   "file_extension": ".py",
   "mimetype": "text/x-python",
   "name": "python",
   "nbconvert_exporter": "python",
   "pygments_lexer": "ipython3",
   "version": "3.11.9"
  }
 },
 "nbformat": 4,
 "nbformat_minor": 2
}
